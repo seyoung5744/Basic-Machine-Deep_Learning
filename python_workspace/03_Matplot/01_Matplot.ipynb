{
 "cells": [
  {
   "cell_type": "markdown",
   "metadata": {},
   "source": [
    "## Matplot Lib를 이용한 시각화"
   ]
  },
  {
   "cell_type": "markdown",
   "metadata": {},
   "source": [
    "1. matplot  \n",
    "파이썬으로 데이터 분석한 결과를 시각화 하는데 matplotlib 라이브러리를  \n",
    "가장 많이 사용한다.  \n",
    "\n",
    "matplotlib 는 파이썬에서 2D형태의 그래프, 이비지 등을 그릴 때 사용한 것으로  \n",
    "실제 과학컴퓨팅 분야나 인공지능 연구분야에서도 많이 사용하는 언어  \n",
    "\n",
    "matplotlib 모듈은 다양한 모듈들이 있는데  \n",
    "그주에서 가장 많이 사용하는 서브모듈이 pyplot\n",
    "\n",
    "2. seaborn  \n"
   ]
  },
  {
   "cell_type": "code",
   "execution_count": 14,
   "metadata": {},
   "outputs": [],
   "source": [
    "import matplotlib.pyplot as plt\n",
    "import seaborn as sns\n",
    "import numpy as np"
   ]
  },
  {
   "cell_type": "markdown",
   "metadata": {},
   "source": [
    "### 1. 산점도 그래프 그리기"
   ]
  },
  {
   "cell_type": "markdown",
   "metadata": {},
   "source": [
    "산점도는 scatter() 함수를 사용해서 시각화 한다.  \n",
    "산점도는 x,y축에 해당하는 데이터의 상관관계를 표기할 때 사용하며   \n",
    "점들이 흩어져 있는 분포를 확인할수 있는 그래프  \n",
    "2개의 축을 기준으로 데이터들이 얼마나 퍼져있는지의 여부(분포도, 산점도)를   \n",
    "알 수 있다. "
   ]
  },
  {
   "cell_type": "code",
   "execution_count": 12,
   "metadata": {},
   "outputs": [
    {
     "data": {
      "image/png": "[encoded data removed]",
      "text/plain": [
       "<Figure size 432x288 with 2 Axes>"
      ]
     },
     "metadata": {
      "needs_background": "light"
     },
     "output_type": "display_data"
    }
   ],
   "source": [
    "# plt.scatter([1,2,3,4],[10,30,20,40], s=[100,200,350,500], # 점 크기 및 중요도 표시\n",
    "#            c = ['yellow','brown','pink','red']) # 점 색\n",
    " \n",
    "plt.scatter([1,2,3,4],[10,30,20,40], s=[100,200,350,500], \n",
    "           c = range(4),cmap='jet') # 일일이 색을 넣어줄 수 없기 때문에 자동 색 삽입\n",
    "\n",
    "plt.colorbar() # 자동 색 삽입된 부분의 중요도를 바로 시각화\n",
    "plt.show()"
   ]
  },
  {
   "cell_type": "markdown",
   "metadata": {},
   "source": [
    "#### 1. 딕셔너리를 이용한 DataFrame 생성하기"
   ]
  },
  {
   "cell_type": "code",
   "execution_count": 16,
   "metadata": {},
   "outputs": [
    {
     "data": {
      "text/plain": [
       "{'a': array([ 0,  1,  2,  3,  4,  5,  6,  7,  8,  9, 10, 11, 12, 13, 14, 15, 16,\n",
       "        17, 18, 19, 20, 21, 22, 23, 24, 25, 26, 27, 28, 29, 30, 31, 32, 33,\n",
       "        34, 35, 36, 37, 38, 39, 40, 41, 42, 43, 44, 45, 46, 47, 48, 49]),\n",
       " 'c': array([37, 43, 12,  8,  9, 11,  5, 15,  0, 16,  1, 12,  7, 45,  6, 25, 20,\n",
       "        37, 18, 20, 11, 42, 28, 29, 14,  4, 23, 23, 41, 49, 30, 32, 22, 13,\n",
       "        41,  9,  7, 22,  1,  0, 17,  8, 24, 13, 47, 42,  8, 30,  7,  3]),\n",
       " 'd': array([-8.91913759e-01,  1.73559653e+00, -6.31108331e-01, -9.07343356e-01,\n",
       "         3.74751973e-01, -4.73382754e-01, -4.54520824e-01, -8.53380627e-02,\n",
       "         1.50318838e+00,  1.16064112e+00, -4.82941397e-01, -1.80662901e+00,\n",
       "        -9.15447608e-01, -6.97339847e-02, -8.49954772e-01,  5.06232307e-02,\n",
       "         7.05072381e-01, -1.67994195e+00,  1.99997564e+00,  1.15696327e+00,\n",
       "         1.93117963e-01, -1.55300741e+00, -1.00135380e-02,  6.49165533e-01,\n",
       "         1.55857293e+00,  2.38351806e-01,  1.08086617e-01,  1.01526292e+00,\n",
       "         9.59636776e-01, -1.27303148e-01,  6.98554164e-01, -2.22549508e+00,\n",
       "        -1.26822935e+00,  1.39218201e+00,  1.92383191e+00,  9.91091266e-01,\n",
       "         3.80610804e-01, -7.47766359e-01, -1.31767750e+00,  1.33291008e+00,\n",
       "        -6.84540250e-01,  1.25598233e+00,  4.96726354e-01,  3.29275803e-01,\n",
       "        -1.18990846e-03, -3.07292625e-01, -1.83536999e-01, -5.52975151e-01,\n",
       "        -1.55712804e-01,  5.72392274e-01])}"
      ]
     },
     "execution_count": 16,
     "metadata": {},
     "output_type": "execute_result"
    }
   ],
   "source": [
    "np.random.seed(1)\n",
    "data = {\n",
    "    'a':np.arange(50), # 0부터 49까지\n",
    "    'c':np.random.randint(0,50,50), # 0에서 50까지의 숫자를 랜덤으로 넣어줌.\n",
    "    'd':np.random.randn(50)\n",
    "}\n",
    "\n",
    "data"
   ]
  },
  {
   "cell_type": "code",
   "execution_count": 17,
   "metadata": {},
   "outputs": [
    {
     "data": {
      "text/plain": [
       "{'a': array([ 0,  1,  2,  3,  4,  5,  6,  7,  8,  9, 10, 11, 12, 13, 14, 15, 16,\n",
       "        17, 18, 19, 20, 21, 22, 23, 24, 25, 26, 27, 28, 29, 30, 31, 32, 33,\n",
       "        34, 35, 36, 37, 38, 39, 40, 41, 42, 43, 44, 45, 46, 47, 48, 49]),\n",
       " 'c': array([37, 43, 12,  8,  9, 11,  5, 15,  0, 16,  1, 12,  7, 45,  6, 25, 20,\n",
       "        37, 18, 20, 11, 42, 28, 29, 14,  4, 23, 23, 41, 49, 30, 32, 22, 13,\n",
       "        41,  9,  7, 22,  1,  0, 17,  8, 24, 13, 47, 42,  8, 30,  7,  3]),\n",
       " 'd': array([8.91913759e+01, 1.73559653e+02, 6.31108331e+01, 9.07343356e+01,\n",
       "        3.74751973e+01, 4.73382754e+01, 4.54520824e+01, 8.53380627e+00,\n",
       "        1.50318838e+02, 1.16064112e+02, 4.82941397e+01, 1.80662901e+02,\n",
       "        9.15447608e+01, 6.97339847e+00, 8.49954772e+01, 5.06232307e+00,\n",
       "        7.05072381e+01, 1.67994195e+02, 1.99997564e+02, 1.15696327e+02,\n",
       "        1.93117963e+01, 1.55300741e+02, 1.00135380e+00, 6.49165533e+01,\n",
       "        1.55857293e+02, 2.38351806e+01, 1.08086617e+01, 1.01526292e+02,\n",
       "        9.59636776e+01, 1.27303148e+01, 6.98554164e+01, 2.22549508e+02,\n",
       "        1.26822935e+02, 1.39218201e+02, 1.92383191e+02, 9.91091266e+01,\n",
       "        3.80610804e+01, 7.47766359e+01, 1.31767750e+02, 1.33291008e+02,\n",
       "        6.84540250e+01, 1.25598233e+02, 4.96726354e+01, 3.29275803e+01,\n",
       "        1.18990846e-01, 3.07292625e+01, 1.83536999e+01, 5.52975151e+01,\n",
       "        1.55712804e+01, 5.72392274e+01]),\n",
       " 'b': array([ 7.59955476,  8.35681993, 12.13892432, -4.38431181,  6.57706672,\n",
       "        -6.37451728, 21.78141345,  5.24889432, -9.29088822,  6.55925525,\n",
       "        11.93079609, 23.47796373, 11.50679496,  5.29652081,  6.25947811,\n",
       "        21.1001901 ,  0.52918991, 14.95232271,  3.31707767, 19.41552775,\n",
       "        20.26831491, 14.58874005, 18.30683747, 11.32705482, 24.24545422,\n",
       "        15.17623745, 22.97084697, 21.29581171, 18.69244801, 21.25419144,\n",
       "        31.46522589, 22.45867559, 13.64174189, 21.59895033, 28.07554802,\n",
       "        43.8200328 , 43.78838041, 51.99032386, 53.42909317, 34.52268308,\n",
       "        22.22307664, 23.08164766, 31.94934572, 38.99623663, 49.36258367,\n",
       "        57.99784714, 46.94180386, 44.16830715, 44.04287256, 41.87568031])}"
      ]
     },
     "execution_count": 17,
     "metadata": {},
     "output_type": "execute_result"
    }
   ],
   "source": [
    "data['b'] = data['a'] + 10 * np.random.randn(50)\n",
    "data['d'] = np.abs(data['d']) * 100\n",
    "\n",
    "data"
   ]
  },
  {
   "cell_type": "code",
   "execution_count": 18,
   "metadata": {
    "collapsed": true
   },
   "outputs": [
    {
     "data": {
      "text/html": [
       "<div>\n",
       "<style scoped>\n",
       "    .dataframe tbody tr th:only-of-type {\n",
       "        vertical-align: middle;\n",
       "    }\n",
       "\n",
       "    .dataframe tbody tr th {\n",
       "        vertical-align: top;\n",
       "    }\n",
       "\n",
       "    .dataframe thead th {\n",
       "        text-align: right;\n",
       "    }\n",
       "</style>\n",
       "<table border=\"1\" class=\"dataframe\">\n",
       "  <thead>\n",
       "    <tr style=\"text-align: right;\">\n",
       "      <th></th>\n",
       "      <th>a</th>\n",
       "      <th>c</th>\n",
       "      <th>d</th>\n",
       "      <th>b</th>\n",
       "    </tr>\n",
       "  </thead>\n",
       "  <tbody>\n",
       "    <tr>\n",
       "      <th>0</th>\n",
       "      <td>0</td>\n",
       "      <td>37</td>\n",
       "      <td>89.191376</td>\n",
       "      <td>7.599555</td>\n",
       "    </tr>\n",
       "    <tr>\n",
       "      <th>1</th>\n",
       "      <td>1</td>\n",
       "      <td>43</td>\n",
       "      <td>173.559653</td>\n",
       "      <td>8.356820</td>\n",
       "    </tr>\n",
       "    <tr>\n",
       "      <th>2</th>\n",
       "      <td>2</td>\n",
       "      <td>12</td>\n",
       "      <td>63.110833</td>\n",
       "      <td>12.138924</td>\n",
       "    </tr>\n",
       "    <tr>\n",
       "      <th>3</th>\n",
       "      <td>3</td>\n",
       "      <td>8</td>\n",
       "      <td>90.734336</td>\n",
       "      <td>-4.384312</td>\n",
       "    </tr>\n",
       "    <tr>\n",
       "      <th>4</th>\n",
       "      <td>4</td>\n",
       "      <td>9</td>\n",
       "      <td>37.475197</td>\n",
       "      <td>6.577067</td>\n",
       "    </tr>\n",
       "    <tr>\n",
       "      <th>5</th>\n",
       "      <td>5</td>\n",
       "      <td>11</td>\n",
       "      <td>47.338275</td>\n",
       "      <td>-6.374517</td>\n",
       "    </tr>\n",
       "    <tr>\n",
       "      <th>6</th>\n",
       "      <td>6</td>\n",
       "      <td>5</td>\n",
       "      <td>45.452082</td>\n",
       "      <td>21.781413</td>\n",
       "    </tr>\n",
       "    <tr>\n",
       "      <th>7</th>\n",
       "      <td>7</td>\n",
       "      <td>15</td>\n",
       "      <td>8.533806</td>\n",
       "      <td>5.248894</td>\n",
       "    </tr>\n",
       "    <tr>\n",
       "      <th>8</th>\n",
       "      <td>8</td>\n",
       "      <td>0</td>\n",
       "      <td>150.318838</td>\n",
       "      <td>-9.290888</td>\n",
       "    </tr>\n",
       "    <tr>\n",
       "      <th>9</th>\n",
       "      <td>9</td>\n",
       "      <td>16</td>\n",
       "      <td>116.064112</td>\n",
       "      <td>6.559255</td>\n",
       "    </tr>\n",
       "    <tr>\n",
       "      <th>10</th>\n",
       "      <td>10</td>\n",
       "      <td>1</td>\n",
       "      <td>48.294140</td>\n",
       "      <td>11.930796</td>\n",
       "    </tr>\n",
       "    <tr>\n",
       "      <th>11</th>\n",
       "      <td>11</td>\n",
       "      <td>12</td>\n",
       "      <td>180.662901</td>\n",
       "      <td>23.477964</td>\n",
       "    </tr>\n",
       "    <tr>\n",
       "      <th>12</th>\n",
       "      <td>12</td>\n",
       "      <td>7</td>\n",
       "      <td>91.544761</td>\n",
       "      <td>11.506795</td>\n",
       "    </tr>\n",
       "    <tr>\n",
       "      <th>13</th>\n",
       "      <td>13</td>\n",
       "      <td>45</td>\n",
       "      <td>6.973398</td>\n",
       "      <td>5.296521</td>\n",
       "    </tr>\n",
       "    <tr>\n",
       "      <th>14</th>\n",
       "      <td>14</td>\n",
       "      <td>6</td>\n",
       "      <td>84.995477</td>\n",
       "      <td>6.259478</td>\n",
       "    </tr>\n",
       "    <tr>\n",
       "      <th>15</th>\n",
       "      <td>15</td>\n",
       "      <td>25</td>\n",
       "      <td>5.062323</td>\n",
       "      <td>21.100190</td>\n",
       "    </tr>\n",
       "    <tr>\n",
       "      <th>16</th>\n",
       "      <td>16</td>\n",
       "      <td>20</td>\n",
       "      <td>70.507238</td>\n",
       "      <td>0.529190</td>\n",
       "    </tr>\n",
       "    <tr>\n",
       "      <th>17</th>\n",
       "      <td>17</td>\n",
       "      <td>37</td>\n",
       "      <td>167.994195</td>\n",
       "      <td>14.952323</td>\n",
       "    </tr>\n",
       "    <tr>\n",
       "      <th>18</th>\n",
       "      <td>18</td>\n",
       "      <td>18</td>\n",
       "      <td>199.997564</td>\n",
       "      <td>3.317078</td>\n",
       "    </tr>\n",
       "    <tr>\n",
       "      <th>19</th>\n",
       "      <td>19</td>\n",
       "      <td>20</td>\n",
       "      <td>115.696327</td>\n",
       "      <td>19.415528</td>\n",
       "    </tr>\n",
       "    <tr>\n",
       "      <th>20</th>\n",
       "      <td>20</td>\n",
       "      <td>11</td>\n",
       "      <td>19.311796</td>\n",
       "      <td>20.268315</td>\n",
       "    </tr>\n",
       "    <tr>\n",
       "      <th>21</th>\n",
       "      <td>21</td>\n",
       "      <td>42</td>\n",
       "      <td>155.300741</td>\n",
       "      <td>14.588740</td>\n",
       "    </tr>\n",
       "    <tr>\n",
       "      <th>22</th>\n",
       "      <td>22</td>\n",
       "      <td>28</td>\n",
       "      <td>1.001354</td>\n",
       "      <td>18.306837</td>\n",
       "    </tr>\n",
       "    <tr>\n",
       "      <th>23</th>\n",
       "      <td>23</td>\n",
       "      <td>29</td>\n",
       "      <td>64.916553</td>\n",
       "      <td>11.327055</td>\n",
       "    </tr>\n",
       "    <tr>\n",
       "      <th>24</th>\n",
       "      <td>24</td>\n",
       "      <td>14</td>\n",
       "      <td>155.857293</td>\n",
       "      <td>24.245454</td>\n",
       "    </tr>\n",
       "    <tr>\n",
       "      <th>25</th>\n",
       "      <td>25</td>\n",
       "      <td>4</td>\n",
       "      <td>23.835181</td>\n",
       "      <td>15.176237</td>\n",
       "    </tr>\n",
       "    <tr>\n",
       "      <th>26</th>\n",
       "      <td>26</td>\n",
       "      <td>23</td>\n",
       "      <td>10.808662</td>\n",
       "      <td>22.970847</td>\n",
       "    </tr>\n",
       "    <tr>\n",
       "      <th>27</th>\n",
       "      <td>27</td>\n",
       "      <td>23</td>\n",
       "      <td>101.526292</td>\n",
       "      <td>21.295812</td>\n",
       "    </tr>\n",
       "    <tr>\n",
       "      <th>28</th>\n",
       "      <td>28</td>\n",
       "      <td>41</td>\n",
       "      <td>95.963678</td>\n",
       "      <td>18.692448</td>\n",
       "    </tr>\n",
       "    <tr>\n",
       "      <th>29</th>\n",
       "      <td>29</td>\n",
       "      <td>49</td>\n",
       "      <td>12.730315</td>\n",
       "      <td>21.254191</td>\n",
       "    </tr>\n",
       "    <tr>\n",
       "      <th>30</th>\n",
       "      <td>30</td>\n",
       "      <td>30</td>\n",
       "      <td>69.855416</td>\n",
       "      <td>31.465226</td>\n",
       "    </tr>\n",
       "    <tr>\n",
       "      <th>31</th>\n",
       "      <td>31</td>\n",
       "      <td>32</td>\n",
       "      <td>222.549508</td>\n",
       "      <td>22.458676</td>\n",
       "    </tr>\n",
       "    <tr>\n",
       "      <th>32</th>\n",
       "      <td>32</td>\n",
       "      <td>22</td>\n",
       "      <td>126.822935</td>\n",
       "      <td>13.641742</td>\n",
       "    </tr>\n",
       "    <tr>\n",
       "      <th>33</th>\n",
       "      <td>33</td>\n",
       "      <td>13</td>\n",
       "      <td>139.218201</td>\n",
       "      <td>21.598950</td>\n",
       "    </tr>\n",
       "    <tr>\n",
       "      <th>34</th>\n",
       "      <td>34</td>\n",
       "      <td>41</td>\n",
       "      <td>192.383191</td>\n",
       "      <td>28.075548</td>\n",
       "    </tr>\n",
       "    <tr>\n",
       "      <th>35</th>\n",
       "      <td>35</td>\n",
       "      <td>9</td>\n",
       "      <td>99.109127</td>\n",
       "      <td>43.820033</td>\n",
       "    </tr>\n",
       "    <tr>\n",
       "      <th>36</th>\n",
       "      <td>36</td>\n",
       "      <td>7</td>\n",
       "      <td>38.061080</td>\n",
       "      <td>43.788380</td>\n",
       "    </tr>\n",
       "    <tr>\n",
       "      <th>37</th>\n",
       "      <td>37</td>\n",
       "      <td>22</td>\n",
       "      <td>74.776636</td>\n",
       "      <td>51.990324</td>\n",
       "    </tr>\n",
       "    <tr>\n",
       "      <th>38</th>\n",
       "      <td>38</td>\n",
       "      <td>1</td>\n",
       "      <td>131.767750</td>\n",
       "      <td>53.429093</td>\n",
       "    </tr>\n",
       "    <tr>\n",
       "      <th>39</th>\n",
       "      <td>39</td>\n",
       "      <td>0</td>\n",
       "      <td>133.291008</td>\n",
       "      <td>34.522683</td>\n",
       "    </tr>\n",
       "    <tr>\n",
       "      <th>40</th>\n",
       "      <td>40</td>\n",
       "      <td>17</td>\n",
       "      <td>68.454025</td>\n",
       "      <td>22.223077</td>\n",
       "    </tr>\n",
       "    <tr>\n",
       "      <th>41</th>\n",
       "      <td>41</td>\n",
       "      <td>8</td>\n",
       "      <td>125.598233</td>\n",
       "      <td>23.081648</td>\n",
       "    </tr>\n",
       "    <tr>\n",
       "      <th>42</th>\n",
       "      <td>42</td>\n",
       "      <td>24</td>\n",
       "      <td>49.672635</td>\n",
       "      <td>31.949346</td>\n",
       "    </tr>\n",
       "    <tr>\n",
       "      <th>43</th>\n",
       "      <td>43</td>\n",
       "      <td>13</td>\n",
       "      <td>32.927580</td>\n",
       "      <td>38.996237</td>\n",
       "    </tr>\n",
       "    <tr>\n",
       "      <th>44</th>\n",
       "      <td>44</td>\n",
       "      <td>47</td>\n",
       "      <td>0.118991</td>\n",
       "      <td>49.362584</td>\n",
       "    </tr>\n",
       "    <tr>\n",
       "      <th>45</th>\n",
       "      <td>45</td>\n",
       "      <td>42</td>\n",
       "      <td>30.729263</td>\n",
       "      <td>57.997847</td>\n",
       "    </tr>\n",
       "    <tr>\n",
       "      <th>46</th>\n",
       "      <td>46</td>\n",
       "      <td>8</td>\n",
       "      <td>18.353700</td>\n",
       "      <td>46.941804</td>\n",
       "    </tr>\n",
       "    <tr>\n",
       "      <th>47</th>\n",
       "      <td>47</td>\n",
       "      <td>30</td>\n",
       "      <td>55.297515</td>\n",
       "      <td>44.168307</td>\n",
       "    </tr>\n",
       "    <tr>\n",
       "      <th>48</th>\n",
       "      <td>48</td>\n",
       "      <td>7</td>\n",
       "      <td>15.571280</td>\n",
       "      <td>44.042873</td>\n",
       "    </tr>\n",
       "    <tr>\n",
       "      <th>49</th>\n",
       "      <td>49</td>\n",
       "      <td>3</td>\n",
       "      <td>57.239227</td>\n",
       "      <td>41.875680</td>\n",
       "    </tr>\n",
       "  </tbody>\n",
       "</table>\n",
       "</div>"
      ],
      "text/plain": [
       "     a   c           d          b\n",
       "0    0  37   89.191376   7.599555\n",
       "1    1  43  173.559653   8.356820\n",
       "2    2  12   63.110833  12.138924\n",
       "3    3   8   90.734336  -4.384312\n",
       "4    4   9   37.475197   6.577067\n",
       "5    5  11   47.338275  -6.374517\n",
       "6    6   5   45.452082  21.781413\n",
       "7    7  15    8.533806   5.248894\n",
       "8    8   0  150.318838  -9.290888\n",
       "9    9  16  116.064112   6.559255\n",
       "10  10   1   48.294140  11.930796\n",
       "11  11  12  180.662901  23.477964\n",
       "12  12   7   91.544761  11.506795\n",
       "13  13  45    6.973398   5.296521\n",
       "14  14   6   84.995477   6.259478\n",
       "15  15  25    5.062323  21.100190\n",
       "16  16  20   70.507238   0.529190\n",
       "17  17  37  167.994195  14.952323\n",
       "18  18  18  199.997564   3.317078\n",
       "19  19  20  115.696327  19.415528\n",
       "20  20  11   19.311796  20.268315\n",
       "21  21  42  155.300741  14.588740\n",
       "22  22  28    1.001354  18.306837\n",
       "23  23  29   64.916553  11.327055\n",
       "24  24  14  155.857293  24.245454\n",
       "25  25   4   23.835181  15.176237\n",
       "26  26  23   10.808662  22.970847\n",
       "27  27  23  101.526292  21.295812\n",
       "28  28  41   95.963678  18.692448\n",
       "29  29  49   12.730315  21.254191\n",
       "30  30  30   69.855416  31.465226\n",
       "31  31  32  222.549508  22.458676\n",
       "32  32  22  126.822935  13.641742\n",
       "33  33  13  139.218201  21.598950\n",
       "34  34  41  192.383191  28.075548\n",
       "35  35   9   99.109127  43.820033\n",
       "36  36   7   38.061080  43.788380\n",
       "37  37  22   74.776636  51.990324\n",
       "38  38   1  131.767750  53.429093\n",
       "39  39   0  133.291008  34.522683\n",
       "40  40  17   68.454025  22.223077\n",
       "41  41   8  125.598233  23.081648\n",
       "42  42  24   49.672635  31.949346\n",
       "43  43  13   32.927580  38.996237\n",
       "44  44  47    0.118991  49.362584\n",
       "45  45  42   30.729263  57.997847\n",
       "46  46   8   18.353700  46.941804\n",
       "47  47  30   55.297515  44.168307\n",
       "48  48   7   15.571280  44.042873\n",
       "49  49   3   57.239227  41.875680"
      ]
     },
     "execution_count": 18,
     "metadata": {},
     "output_type": "execute_result"
    }
   ],
   "source": [
    "# 위 data를 DataFrame으로 만들겠다.\n",
    "# a,b,c,d는 컬럼으로 \n",
    "# 0,1,2,3,4...인덱스가 지정\n",
    "import pandas as pd\n",
    "from pandas import DataFrame\n",
    "\n",
    "DataFrame(data)"
   ]
  },
  {
   "cell_type": "code",
   "execution_count": 19,
   "metadata": {},
   "outputs": [
    {
     "data": {
      "image/png": "[encoded data removed]",
      "text/plain": [
       "<Figure size 432x288 with 1 Axes>"
      ]
     },
     "metadata": {
      "needs_background": "light"
     },
     "output_type": "display_data"
    }
   ],
   "source": [
    "# x에는 a에 대한 값, y에는 b에 대한 값\n",
    "plt.scatter('a','b',data=data)\n",
    "plt.show()"
   ]
  },
  {
   "cell_type": "code",
   "execution_count": 23,
   "metadata": {
    "scrolled": true
   },
   "outputs": [
    {
     "data": {
      "image/png": "[encoded data removed]",
      "text/plain": [
       "<Figure size 432x288 with 1 Axes>"
      ]
     },
     "metadata": {
      "needs_background": "light"
     },
     "output_type": "display_data"
    }
   ],
   "source": [
    "# cmap과 c 는 세트. 'c' : color\n",
    "# s(strong) : 강도\n",
    "plt.scatter('a', 'b', data=data, c='c', cmap='RdPu', s = 'd')\n",
    "plt.show()"
   ]
  },
  {
   "cell_type": "markdown",
   "metadata": {},
   "source": [
    "### 2. Subplot 으로 plot(), scatter(), bar() 시각화를 동시에 이용하기"
   ]
  },
  {
   "cell_type": "markdown",
   "metadata": {},
   "source": [
    "Subplot : 하나의 영역을 쪼개어서 여러 개의 그래프를 동시에 보여주는 기능  "
   ]
  },
  {
   "cell_type": "code",
   "execution_count": 24,
   "metadata": {},
   "outputs": [],
   "source": [
    "names = ['group_a','group_b','group_c'] # x값으로 사용\n",
    "values = [1, 10, 100] # y값으로 사용"
   ]
  },
  {
   "cell_type": "code",
   "execution_count": 31,
   "metadata": {},
   "outputs": [
    {
     "data": {
      "text/plain": [
       "[<matplotlib.lines.Line2D at 0x22c81124340>]"
      ]
     },
     "execution_count": 31,
     "metadata": {},
     "output_type": "execute_result"
    },
    {
     "data": {
      "image/png": "[encoded data removed]",
      "text/plain": [
       "<Figure size 648x216 with 3 Axes>"
      ]
     },
     "metadata": {
      "needs_background": "light"
     },
     "output_type": "display_data"
    }
   ],
   "source": [
    "plt.figure(1, figsize=(9,3)) # figsize=(9,3) : 9,3으로 전체 크기 설정\n",
    "\n",
    "plt.subplot(131) # 1개를 3개로 쪼개고 1번째 공간에 위지 \n",
    "plt.bar(names, values)\n",
    "\n",
    "plt.subplot(132)\n",
    "plt.scatter(names, values)\n",
    "\n",
    "plt.subplot(133)\n",
    "plt.plot(names, values)"
   ]
  },
  {
   "cell_type": "markdown",
   "metadata": {},
   "source": [
    "### 3. 히스토그램 그리기"
   ]
  },
  {
   "cell_type": "markdown",
   "metadata": {},
   "source": [
    "hist() 함수를 사용  \n",
    "히스토그램은 자료의 분포상태를 직사각형의 막대그래프로 나타낸 것  \n",
    "데이터의 빈도를 알아보는 것으로   \n",
    "빈도에 따라서 그래프의 높이가 결정됨  \n",
    "\n",
    "scatter() 함수는 산포도  \n",
    "hist() 는 막대그래프의 파형을 가진다  "
   ]
  },
  {
   "cell_type": "code",
   "execution_count": 32,
   "metadata": {},
   "outputs": [
    {
     "data": {
      "image/png": "[encoded data removed]",
      "text/plain": [
       "<Figure size 432x288 with 1 Axes>"
      ]
     },
     "metadata": {
      "needs_background": "light"
     },
     "output_type": "display_data"
    }
   ],
   "source": [
    "plt.hist([1,1,2,3,4,5,6,6,7,8,10])\n",
    "plt.show()"
   ]
  },
  {
   "cell_type": "markdown",
   "metadata": {},
   "source": [
    "#### histogram bins...사용법\n",
    "\n",
    "bins  \n",
    "해당 막대의 영역을 얼마나 채우는지 결정해주는 변수  \n",
    "bins 갯수가 너무 적으면 분포가 뭉뚱그려지고  \n",
    "bins 갯수가 너무 많으면 이빨빠진 빗처럼 조금 이상해진다.  \n",
    "bins 지정은 잘해줘야 하며  \n",
    "만약에 지정하지 않으면 기본값으로 알아서 세팅...제법 보기좋게 나온다.\n",
    "\n",
    "간혹가다가 bins를 지정해줘야 할 때가 있다..."
   ]
  },
  {
   "cell_type": "code",
   "execution_count": 50,
   "metadata": {},
   "outputs": [
    {
     "data": {
      "image/png": "[encoded data removed]",
      "text/plain": [
       "<Figure size 432x288 with 1 Axes>"
      ]
     },
     "metadata": {
      "needs_background": "light"
     },
     "output_type": "display_data"
    }
   ],
   "source": [
    "dice = [] \n",
    "for i in range(5):\n",
    "    dice.append(np.random.randint(1,7))\n",
    "    \n",
    "# print(dice)\n",
    "\n",
    "plt.hist(dice)\n",
    "plt.show()"
   ]
  },
  {
   "cell_type": "code",
   "execution_count": 56,
   "metadata": {},
   "outputs": [
    {
     "data": {
      "image/png": "[encoded data removed]",
      "text/plain": [
       "<Figure size 432x288 with 1 Axes>"
      ]
     },
     "metadata": {
      "needs_background": "light"
     },
     "output_type": "display_data"
    }
   ],
   "source": [
    "plt.hist(dice, bins = 6)\n",
    "plt.show()"
   ]
  },
  {
   "cell_type": "code",
   "execution_count": 63,
   "metadata": {},
   "outputs": [
    {
     "data": {
      "image/png": "[encoded data removed]",
      "text/plain": [
       "<Figure size 432x288 with 1 Axes>"
      ]
     },
     "metadata": {
      "needs_background": "light"
     },
     "output_type": "display_data"
    }
   ],
   "source": [
    "# 이번에는 주사위를 10만번 돌린 경우를 시뮬레이션 해보자\n",
    "'''\n",
    "큰수의 법칙\n",
    "던지는 횟수를 엄청 많이 한다면 \n",
    "이럴때 특정한 숫자가 나올 확률이 전체의 1/6에 가까워진다는 법칙\n",
    "\n",
    "--> 이럴 때는 hist() 를 사용하면 안됨\n",
    "'''\n",
    "dice = []\n",
    "for i in range(100):\n",
    "    dice.append(np.random.randint(1,7))\n",
    "    \n",
    "plt.hist(dice)\n",
    "plt.show()"
   ]
  },
  {
   "cell_type": "markdown",
   "metadata": {},
   "source": [
    "### 4. 그림문자 표현하기"
   ]
  },
  {
   "cell_type": "code",
   "execution_count": 70,
   "metadata": {},
   "outputs": [
    {
     "data": {
      "text/plain": [
       "(10000,)"
      ]
     },
     "execution_count": 70,
     "metadata": {},
     "output_type": "execute_result"
    }
   ],
   "source": [
    "mu, sigma = 100, 15\n",
    "\n",
    "x = mu + sigma * np.random.randn(10000)\n",
    "x.shape # 확인"
   ]
  },
  {
   "cell_type": "code",
   "execution_count": 71,
   "metadata": {},
   "outputs": [
    {
     "data": {
      "image/png": "[encoded data removed]",
      "text/plain": [
       "<Figure size 432x288 with 1 Axes>"
      ]
     },
     "metadata": {
      "needs_background": "light"
     },
     "output_type": "display_data"
    }
   ],
   "source": [
    "# 바로 히스토그램으로 시각화...지저분한 값이 같이 넘어온다\n",
    "plt.hist(x)\n",
    "plt.show()"
   ]
  },
  {
   "cell_type": "code",
   "execution_count": 72,
   "metadata": {},
   "outputs": [
    {
     "data": {
      "image/png": "[encoded data removed]",
      "text/plain": [
       "<Figure size 432x288 with 1 Axes>"
      ]
     },
     "metadata": {
      "needs_background": "light"
     },
     "output_type": "display_data"
    }
   ],
   "source": [
    "# x부분의 값을 좀더 세밀하게 보고 싶다면?\n",
    "plt.hist(x, bins=50)\n",
    "plt.show()"
   ]
  },
  {
   "cell_type": "code",
   "execution_count": 83,
   "metadata": {},
   "outputs": [
    {
     "data": {
      "image/png": "[encoded data removed]",
      "text/plain": [
       "<Figure size 432x288 with 1 Axes>"
      ]
     },
     "metadata": {
      "needs_background": "light"
     },
     "output_type": "display_data"
    }
   ],
   "source": [
    "# density - 상대적인 빈도값으로 보고 싶을 때 지정한느 속성\n",
    "plt.hist(x, bins=50, \n",
    "         density=1,\n",
    "         facecolor='g', \n",
    "         alpha=0.27) # 투명도 조정 0-1 \n",
    "\n",
    "# 그래프 해석 : 100 이라는 값의 빈도가 0.023보다 높게 나옴\n",
    "\n",
    "plt.xlabel('Smart')\n",
    "plt.ylabel('Propablity')\n",
    "\n",
    "plt.title('Histogram Of IQ')\n",
    "\n",
    "plt.grid()\n",
    "\n",
    "plt.text(60, 0.025, r'$mu=100, \\sigma=15$')\n",
    "\n",
    "# 그래프의 불필요한 부분 자르기\n",
    "plt.axis([50,150, 0, 0.03]) # 50,150 : x 영역 | 0, 0.03 : y 영역\n",
    "\n",
    "plt.show()"
   ]
  },
  {
   "cell_type": "code",
   "execution_count": null,
   "metadata": {},
   "outputs": [],
   "source": []
  },
  {
   "cell_type": "code",
   "execution_count": null,
   "metadata": {},
   "outputs": [],
   "source": []
  }
 ],
 "metadata": {
  "kernelspec": {
   "display_name": "Python 3",
   "language": "python",
   "name": "python3"
  },
  "language_info": {
   "codemirror_mode": {
    "name": "ipython",
    "version": 3
   },
   "file_extension": ".py",
   "mimetype": "text/x-python",
   "name": "python",
   "nbconvert_exporter": "python",
   "pygments_lexer": "ipython3",
   "version": "3.8.3"
  }
 },
 "nbformat": 4,
 "nbformat_minor": 4
}

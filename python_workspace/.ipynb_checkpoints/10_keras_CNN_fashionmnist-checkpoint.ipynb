{
 "cells": [
  {
   "cell_type": "code",
   "execution_count": 2,
   "metadata": {
    "id": "qMbJdW4srEBv"
   },
   "outputs": [],
   "source": [
    "import keras\n",
    "from keras import models, layers\n",
    "from keras import datasets\n",
    "from keras import backend # 채널을 알아 볼수 있는 라이브러리\n",
    "import matplotlib.pyplot as plt"
   ]
  },
  {
   "cell_type": "code",
   "execution_count": 3,
   "metadata": {
    "id": "KhvhjwcurjTn"
   },
   "outputs": [],
   "source": [
    "num_classes = 10\n",
    "(X_train, y_train), (X_test, y_test) = datasets.fashion_mnist.load_data()"
   ]
  },
  {
   "cell_type": "code",
   "execution_count": 4,
   "metadata": {
    "id": "jlu0XqMxrjVv"
   },
   "outputs": [],
   "source": [
    "img_rows, img_cols = X_train.shape[1:]"
   ]
  },
  {
   "cell_type": "code",
   "execution_count": 5,
   "metadata": {
    "colab": {
     "base_uri": "https://localhost:8080/",
     "height": 35
    },
    "id": "GlaZaTNFrjX2",
    "outputId": "02edbdc5-b32a-45ae-e2fe-9101733640f9"
   },
   "outputs": [
    {
     "data": {
      "application/vnd.google.colaboratory.intrinsic+json": {
       "type": "string"
      },
      "text/plain": [
       "'channels_last'"
      ]
     },
     "execution_count": 5,
     "metadata": {
      "tags": []
     },
     "output_type": "execute_result"
    }
   ],
   "source": [
    "channel = backend.image_data_format()\n",
    "channel"
   ]
  },
  {
   "cell_type": "code",
   "execution_count": 6,
   "metadata": {
    "id": "ihViCTFQrjaA"
   },
   "outputs": [],
   "source": [
    "if backend.image_data_format == 'channels_first' :\n",
    "    X_train = X_train.reshape(X_train.shape[0],1,img_rows, img_cols)\n",
    "    X_test = X_test.reshape(X_test.shape[0],1,img_rows, img_cols)\n",
    "    input_shape = (1, img_rows, img_cols)\n",
    "else:\n",
    "    X_train = X_train.reshape(X_train.shape[0], img_rows, img_cols, 1)\n",
    "    X_test = X_test.reshape(X_test.shape[0],img_rows, img_cols,1)\n",
    "    input_shape = (img_rows, img_cols,1)"
   ]
  },
  {
   "cell_type": "code",
   "execution_count": 7,
   "metadata": {
    "id": "64R3vPaArjcH"
   },
   "outputs": [],
   "source": [
    "# X 전처리\n",
    "X_train = X_train.astype('float32')\n",
    "X_test = X_test.astype('float32')\n",
    "\n",
    "X_train /= 255\n",
    "X_test /= 255"
   ]
  },
  {
   "cell_type": "code",
   "execution_count": 8,
   "metadata": {
    "colab": {
     "base_uri": "https://localhost:8080/"
    },
    "id": "39V9WrMGsL5e",
    "outputId": "de2bea3c-d0eb-4de9-db24-c8809770fbe2"
   },
   "outputs": [
    {
     "data": {
      "text/plain": [
       "(60000, 28, 28, 1)"
      ]
     },
     "execution_count": 8,
     "metadata": {
      "tags": []
     },
     "output_type": "execute_result"
    }
   ],
   "source": [
    "X_train.shape"
   ]
  },
  {
   "cell_type": "code",
   "execution_count": 9,
   "metadata": {
    "id": "ngtG7YuSrjgG"
   },
   "outputs": [],
   "source": [
    "# Y 전처리\n",
    "Y_train = keras.utils.to_categorical(y_train)\n",
    "Y_test = keras.utils.to_categorical(y_test)"
   ]
  },
  {
   "cell_type": "code",
   "execution_count": 10,
   "metadata": {
    "colab": {
     "base_uri": "https://localhost:8080/"
    },
    "id": "tg_k4XUOsDWQ",
    "outputId": "030c5ade-6d5b-498b-e272-37ea27613143"
   },
   "outputs": [
    {
     "data": {
      "text/plain": [
       "(60000, 10)"
      ]
     },
     "execution_count": 10,
     "metadata": {
      "tags": []
     },
     "output_type": "execute_result"
    }
   ],
   "source": [
    "Y_train.shape"
   ]
  },
  {
   "cell_type": "code",
   "execution_count": 12,
   "metadata": {
    "colab": {
     "base_uri": "https://localhost:8080/"
    },
    "id": "G5F3rU9DsRmb",
    "outputId": "bfaf32f8-a08d-4423-c984-aafea3cb2c26"
   },
   "outputs": [
    {
     "name": "stdout",
     "output_type": "stream",
     "text": [
      "Model: \"sequential\"\n",
      "_________________________________________________________________\n",
      "Layer (type)                 Output Shape              Param #   \n",
      "=================================================================\n",
      "conv2d (Conv2D)              (None, 28, 28, 128)       1280      \n",
      "_________________________________________________________________\n",
      "batch_normalization (BatchNo (None, 28, 28, 128)       512       \n",
      "_________________________________________________________________\n",
      "activation (Activation)      (None, 28, 28, 128)       0         \n",
      "_________________________________________________________________\n",
      "conv2d_1 (Conv2D)            (None, 28, 28, 128)       147584    \n",
      "_________________________________________________________________\n",
      "batch_normalization_1 (Batch (None, 28, 28, 128)       512       \n",
      "_________________________________________________________________\n",
      "activation_1 (Activation)    (None, 28, 28, 128)       0         \n",
      "_________________________________________________________________\n",
      "conv2d_2 (Conv2D)            (None, 28, 28, 128)       147584    \n",
      "_________________________________________________________________\n",
      "batch_normalization_2 (Batch (None, 28, 28, 128)       512       \n",
      "_________________________________________________________________\n",
      "activation_2 (Activation)    (None, 28, 28, 128)       0         \n",
      "_________________________________________________________________\n",
      "max_pooling2d (MaxPooling2D) (None, 14, 14, 128)       0         \n",
      "_________________________________________________________________\n",
      "dropout (Dropout)            (None, 14, 14, 128)       0         \n",
      "_________________________________________________________________\n",
      "flatten (Flatten)            (None, 25088)             0         \n",
      "_________________________________________________________________\n",
      "dense (Dense)                (None, 128)               3211392   \n",
      "_________________________________________________________________\n",
      "batch_normalization_3 (Batch (None, 128)               512       \n",
      "_________________________________________________________________\n",
      "activation_3 (Activation)    (None, 128)               0         \n",
      "_________________________________________________________________\n",
      "dropout_1 (Dropout)          (None, 128)               0         \n",
      "_________________________________________________________________\n",
      "dense_1 (Dense)              (None, 64)                8256      \n",
      "_________________________________________________________________\n",
      "batch_normalization_4 (Batch (None, 64)                256       \n",
      "_________________________________________________________________\n",
      "activation_4 (Activation)    (None, 64)                0         \n",
      "_________________________________________________________________\n",
      "dropout_2 (Dropout)          (None, 64)                0         \n",
      "_________________________________________________________________\n",
      "dense_2 (Dense)              (None, 32)                2080      \n",
      "_________________________________________________________________\n",
      "batch_normalization_5 (Batch (None, 32)                128       \n",
      "_________________________________________________________________\n",
      "activation_5 (Activation)    (None, 32)                0         \n",
      "_________________________________________________________________\n",
      "dropout_3 (Dropout)          (None, 32)                0         \n",
      "_________________________________________________________________\n",
      "dense_3 (Dense)              (None, 10)                330       \n",
      "=================================================================\n",
      "Total params: 3,520,938\n",
      "Trainable params: 3,519,722\n",
      "Non-trainable params: 1,216\n",
      "_________________________________________________________________\n"
     ]
    }
   ],
   "source": [
    "model = keras.Sequential()\n",
    "\n",
    "model.add(layers.Conv2D(128, kernel_size=(3,3), padding='same'))\n",
    "model.add(layers.BatchNormalization())\n",
    "model.add(layers.Activation('relu'))\n",
    "\n",
    "model.add(layers.Conv2D(128, kernel_size=(3,3), padding='same'))\n",
    "model.add(layers.BatchNormalization())\n",
    "model.add(layers.Activation('relu'))\n",
    "\n",
    "\n",
    "model.add(layers.Conv2D(128, kernel_size=(3,3), padding='same'))\n",
    "model.add(layers.BatchNormalization())\n",
    "model.add(layers.Activation('relu'))\n",
    "\n",
    "model.add(layers.MaxPool2D(pool_size=(2,2)))\n",
    "\n",
    "model.add(layers.Dropout(0.5))\n",
    "\n",
    "# FCN\n",
    "model.add(layers.Flatten())\n",
    "\n",
    "model.add(layers.Dense(128))\n",
    "model.add(layers.BatchNormalization())\n",
    "model.add(layers.Activation('relu'))\n",
    "model.add(layers.Dropout(0.4))\n",
    "\n",
    "model.add(layers.Dense(64))\n",
    "model.add(layers.BatchNormalization())\n",
    "model.add(layers.Activation('relu'))\n",
    "model.add(layers.Dropout(0.25))\n",
    "\n",
    "model.add(layers.Dense(32))\n",
    "model.add(layers.BatchNormalization())\n",
    "model.add(layers.Activation('relu'))\n",
    "model.add(layers.Dropout(0.25))\n",
    "\n",
    "\n",
    "model.add(layers.Dense(num_classes, activation='softmax'))\n",
    "\n",
    "model.summary()"
   ]
  },
  {
   "cell_type": "code",
   "execution_count": 13,
   "metadata": {
    "id": "3A8e0z9rsSIX"
   },
   "outputs": [],
   "source": [
    "opt = keras.optimizers.RMSprop(learning_rate=0.001)\n",
    "model.compile(loss=keras.losses.categorical_crossentropy,\n",
    "              optimizer=opt, metrics=['accuracy'])"
   ]
  },
  {
   "cell_type": "code",
   "execution_count": 14,
   "metadata": {
    "colab": {
     "base_uri": "https://localhost:8080/"
    },
    "id": "lwbG8JevsSKX",
    "outputId": "72ce42e5-840c-4e2f-c622-af6f25f55e56"
   },
   "outputs": [
    {
     "name": "stdout",
     "output_type": "stream",
     "text": [
      "Epoch 1/15\n",
      "480/480 [==============================] - 21s 36ms/step - loss: 0.9084 - accuracy: 0.7255 - val_loss: 0.3809 - val_accuracy: 0.8695\n",
      "Epoch 2/15\n",
      "480/480 [==============================] - 17s 36ms/step - loss: 0.3853 - accuracy: 0.8789 - val_loss: 0.3139 - val_accuracy: 0.8947\n",
      "Epoch 3/15\n",
      "480/480 [==============================] - 18s 37ms/step - loss: 0.3265 - accuracy: 0.8965 - val_loss: 0.2795 - val_accuracy: 0.9012\n",
      "Epoch 4/15\n",
      "480/480 [==============================] - 18s 37ms/step - loss: 0.2862 - accuracy: 0.9069 - val_loss: 0.2456 - val_accuracy: 0.9172\n",
      "Epoch 5/15\n",
      "480/480 [==============================] - 18s 37ms/step - loss: 0.2626 - accuracy: 0.9147 - val_loss: 0.2616 - val_accuracy: 0.9188\n",
      "Epoch 6/15\n",
      "480/480 [==============================] - 17s 36ms/step - loss: 0.2492 - accuracy: 0.9208 - val_loss: 0.2201 - val_accuracy: 0.9223\n",
      "Epoch 7/15\n",
      "480/480 [==============================] - 18s 37ms/step - loss: 0.2364 - accuracy: 0.9220 - val_loss: 0.2326 - val_accuracy: 0.9176\n",
      "Epoch 8/15\n",
      "480/480 [==============================] - 18s 37ms/step - loss: 0.2255 - accuracy: 0.9269 - val_loss: 0.2451 - val_accuracy: 0.9249\n",
      "Epoch 9/15\n",
      "480/480 [==============================] - 18s 37ms/step - loss: 0.2191 - accuracy: 0.9295 - val_loss: 0.2245 - val_accuracy: 0.9218\n",
      "Epoch 10/15\n",
      "480/480 [==============================] - 18s 37ms/step - loss: 0.2080 - accuracy: 0.9318 - val_loss: 0.2074 - val_accuracy: 0.9298\n",
      "Epoch 11/15\n",
      "480/480 [==============================] - 18s 37ms/step - loss: 0.2043 - accuracy: 0.9351 - val_loss: 0.2178 - val_accuracy: 0.9274\n",
      "Epoch 12/15\n",
      "480/480 [==============================] - 18s 37ms/step - loss: 0.2014 - accuracy: 0.9357 - val_loss: 0.2173 - val_accuracy: 0.9237\n",
      "Epoch 13/15\n",
      "480/480 [==============================] - 18s 37ms/step - loss: 0.1877 - accuracy: 0.9403 - val_loss: 0.2369 - val_accuracy: 0.9291\n",
      "Epoch 14/15\n",
      "480/480 [==============================] - 18s 37ms/step - loss: 0.1770 - accuracy: 0.9432 - val_loss: 0.2137 - val_accuracy: 0.9328\n",
      "Epoch 15/15\n",
      "480/480 [==============================] - 18s 37ms/step - loss: 0.1701 - accuracy: 0.9442 - val_loss: 0.2202 - val_accuracy: 0.9253\n"
     ]
    }
   ],
   "source": [
    "history = model.fit(X_train, Y_train, batch_size=100, epochs=15, validation_split=0.2)"
   ]
  },
  {
   "cell_type": "code",
   "execution_count": 15,
   "metadata": {
    "colab": {
     "base_uri": "https://localhost:8080/"
    },
    "id": "SEAFlmaevE4Q",
    "outputId": "d7ada33c-612f-4351-a9fa-4bd9ffe7a029"
   },
   "outputs": [
    {
     "name": "stdout",
     "output_type": "stream",
     "text": [
      "100/100 [==============================] - 1s 11ms/step - loss: 0.2514 - accuracy: 0.9155\n",
      "loss: 0.2514355182647705\n",
      "Accuray: 0.9154999852180481\n"
     ]
    }
   ],
   "source": [
    "model_performance = model.evaluate(X_test, Y_test, batch_size=100)\n",
    "print('loss: {}\\nAccuray: {}'.format(*model_performance))"
   ]
  },
  {
   "cell_type": "code",
   "execution_count": 16,
   "metadata": {
    "id": "4APr6tO0sSMP"
   },
   "outputs": [],
   "source": [
    "import matplotlib.pyplot as plt\n",
    "\n",
    "# history : 트레이닝할 때 나오는 모든 로그 메세지들을 다 모아서 리턴하는 객체 정보\n",
    "\n",
    "# loss 관련된 plot 함수\n",
    "def plot_loss(history):\n",
    "    plt.plot(history.history['loss'])\n",
    "    plt.plot(history.history['val_loss'])\n",
    "    plt.title('model Loss')\n",
    "    plt.ylabel('Loss')\n",
    "    plt.xlabel('Epoch') # X 측이 늘어남에 따라서 Y축이 얼마나 떨어지는가가 궁금한것이다.\n",
    "    plt.legend(['Train','Validation'])\n",
    "    plt.savefig('Loss_Plot.png', dpi=300)\n",
    "    plt.show()\n",
    "\n",
    "def plot_acc(history):\n",
    "    plt.plot(history.history['accuracy'])\n",
    "    plt.plot(history.history['val_accuracy'])\n",
    "    plt.title('Model Accuracy')\n",
    "    plt.ylabel('Accuracy')\n",
    "    plt.xlabel('Epoch')\n",
    "    plt.legend(['Train','Validation'])\n",
    "    plt.savefig('Acc_Plot.png', dpi=300)\n",
    "    plt.show()"
   ]
  },
  {
   "cell_type": "code",
   "execution_count": 17,
   "metadata": {
    "colab": {
     "base_uri": "https://localhost:8080/",
     "height": 295
    },
    "id": "FrJ1i0E1sSO3",
    "outputId": "bf8fe508-810c-49df-ec38-bee0b0a875b4"
   },
   "outputs": [
    {
     "data": {
      "image/png": "[encoded data removed]",
      "text/plain": [
       "<Figure size 432x288 with 1 Axes>"
      ]
     },
     "metadata": {
      "needs_background": "light",
      "tags": []
     },
     "output_type": "display_data"
    }
   ],
   "source": [
    "plot_loss(history)"
   ]
  },
  {
   "cell_type": "code",
   "execution_count": 18,
   "metadata": {
    "colab": {
     "base_uri": "https://localhost:8080/",
     "height": 295
    },
    "id": "R0iP695msSRA",
    "outputId": "68300397-78c9-49f7-aa6c-254f8b936b4a"
   },
   "outputs": [
    {
     "data": {
      "image/png": "[encoded data removed]",
      "text/plain": [
       "<Figure size 432x288 with 1 Axes>"
      ]
     },
     "metadata": {
      "needs_background": "light",
      "tags": []
     },
     "output_type": "display_data"
    }
   ],
   "source": [
    "plot_acc(history)"
   ]
  },
  {
   "cell_type": "code",
   "execution_count": 18,
   "metadata": {
    "id": "1iIfACb5vvRm"
   },
   "outputs": [],
   "source": []
  }
 ],
 "metadata": {
  "accelerator": "GPU",
  "colab": {
   "collapsed_sections": [],
   "name": "10_keras_CNN_fashionmnist.ipynb",
   "provenance": []
  },
  "kernelspec": {
   "display_name": "Python 3",
   "language": "python",
   "name": "python3"
  },
  "language_info": {
   "codemirror_mode": {
    "name": "ipython",
    "version": 3
   },
   "file_extension": ".py",
   "mimetype": "text/x-python",
   "name": "python",
   "nbconvert_exporter": "python",
   "pygments_lexer": "ipython3",
   "version": "3.8.5"
  }
 },
 "nbformat": 4,
 "nbformat_minor": 1
}

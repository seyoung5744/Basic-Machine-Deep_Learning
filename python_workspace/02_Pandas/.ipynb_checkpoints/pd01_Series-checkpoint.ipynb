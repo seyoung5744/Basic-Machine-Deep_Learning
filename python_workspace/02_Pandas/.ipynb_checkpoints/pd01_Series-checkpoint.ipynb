{
 "cells": [
  {
   "cell_type": "markdown",
   "metadata": {},
   "source": [
    "Pandas는 Panel Datas의 약자로써 파이썬을 이용한 데이터 분석에서  \n",
    "가장 많이 사용되는 라이브러리.  \n",
    "Numpy를 기반으로 만들어졌으며 데이터 분석을 위한 효율적인 데이터 구조(Matrix)를 제공한다.  \n",
    "\n",
    "Pandas의 자료구조  \n",
    "1. Series - 1차원 배열 형태 자료구조(vertor)\n",
    "    > Series(ndarray, index) \n",
    "2. DataFrame - 2차원 배열 형태 자료구조(Matrix)  \n",
    "    > 행을 구분하는 인덱스와 열을 구분하는 컬럼이 있다.  \n",
    "    > 별도의 지정이 없으면 인덱스는 정수로 설정  \n",
    "    > 한번 지정된 인덱스는 변경되지 않는다.      \n",
    "3. Panel - 3차원"
   ]
  },
  {
   "cell_type": "markdown",
   "metadata": {},
   "source": [
    "# Series"
   ]
  },
  {
   "cell_type": "code",
   "execution_count": 2,
   "metadata": {},
   "outputs": [],
   "source": [
    "import numpy as np\n",
    "import pandas as pd\n",
    "from pandas import Series, DataFrame"
   ]
  },
  {
   "cell_type": "markdown",
   "metadata": {},
   "source": [
    "### 1. 시리즈 생성하고 구조 확인"
   ]
  },
  {
   "cell_type": "code",
   "execution_count": null,
   "metadata": {},
   "outputs": [],
   "source": [
    "ser1 = Series?"
   ]
  },
  {
   "cell_type": "code",
   "execution_count": 3,
   "metadata": {},
   "outputs": [
    {
     "name": "stdout",
     "output_type": "stream",
     "text": [
      "a    18\n",
      "b    18\n",
      "c    13\n",
      "d    17\n",
      "e    17\n",
      "dtype: int32\n",
      "Index(['a', 'b', 'c', 'd', 'e'], dtype='object')\n",
      "[18 18 13 17 17]\n",
      "int32\n"
     ]
    }
   ],
   "source": [
    "# 처음에는 index 속성없이 생성해보겠다. data는 배열형태\n",
    "# np배열 만드는 방법 1) array()    2) random\n",
    "# index를 명시적으로 지정하지 않으면 자동적으로 0~N-1 까지의 정수로 지정된다.\n",
    "\n",
    "np.random.seed(100)\n",
    "\n",
    "# ser1 = Series(np.random.randint(10,20,5)) # 10~20사이의 정수 5개\n",
    "# ser1 = Series(np.random.randint(10,20,5), index = ['a','b','c','d','e']) # 인덱스지정. 번거로움\n",
    "ser1 = Series(np.random.randint(10,20,5), index=list('abcde')) # list() 함수 이용\n",
    "print(ser1)\n",
    "print(ser1.index)\n",
    "print(ser1.values)\n",
    "print(ser1.dtype)"
   ]
  },
  {
   "cell_type": "markdown",
   "metadata": {},
   "source": [
    "### 2. 시리즈 값 조회하기\n",
    "- 인덱싱 | 슬라이싱  \n",
    "- 단일값을 선택하거나 여러 값을 선택할때 인덱스로 숫자나 라벨을 사용할 수 있다.\n",
    "- 이때 슬라이싱되는 방법이 달라진다.\n",
    "    - 1) 라벨사용 - 마지막 라벨 포함\n",
    "    - 2) 숫자사용 - 마지막 숫자 포함 안함"
   ]
  },
  {
   "cell_type": "code",
   "execution_count": 4,
   "metadata": {},
   "outputs": [
    {
     "name": "stdout",
     "output_type": "stream",
     "text": [
      "13\n",
      "13\n",
      "b    18\n",
      "c    13\n",
      "d    17\n",
      "dtype: int32\n",
      "b    18\n",
      "c    13\n",
      "d    17\n",
      "e    17\n",
      "dtype: int32\n"
     ]
    }
   ],
   "source": [
    "print(ser1['c']) # 인덱싱(라벨사용)\n",
    "print(ser1[2])\n",
    "\n",
    "print(ser1[1:4]) # 숫자를 이용한 슬라이싱 - 마지막 포함 X\n",
    "print(ser1['b':'e']) # 라벨을 이용한 슬라이싱 - 마지막 포함 O"
   ]
  },
  {
   "cell_type": "code",
   "execution_count": 6,
   "metadata": {},
   "outputs": [
    {
     "name": "stdout",
     "output_type": "stream",
     "text": [
      "a    18\n",
      "c    13\n",
      "e    17\n",
      "dtype: int32\n",
      "a    18\n",
      "b    18\n",
      "dtype: int32\n"
     ]
    }
   ],
   "source": [
    "# 응용해서 조회하기\n",
    "ser1_1 = ser1[::2] # 전체 조회에서 2 step\n",
    "print(ser1_1)\n",
    "\n",
    "ser1_2 = ser1[:2]\n",
    "print(ser1_2) "
   ]
  },
  {
   "cell_type": "markdown",
   "metadata": {},
   "source": [
    "### 3. 시리즈 간의 연산과 누락 데이터 처리"
   ]
  },
  {
   "cell_type": "code",
   "execution_count": 24,
   "metadata": {},
   "outputs": [
    {
     "name": "stdout",
     "output_type": "stream",
     "text": [
      "a    18\n",
      "c    13\n",
      "e    17\n",
      "dtype: int32\n",
      "a    18\n",
      "b    18\n",
      "c    13\n",
      "d    17\n",
      "e    17\n",
      "dtype: int32\n",
      "a    36.0\n",
      "b     NaN\n",
      "c    26.0\n",
      "d     NaN\n",
      "e    34.0\n",
      "dtype: float64\n"
     ]
    }
   ],
   "source": [
    "print(ser1_1)\n",
    "print(ser1)\n",
    "\n",
    "# 시리즈간의 연산\n",
    "result = ser1 + ser1_1\n",
    "print(result) # b,d 에 해당하는 값들은 NaN으로 채워짐. NaN : 누락데이터 / 결측값\n",
    "              # 연산 결과로 float64로 바뀜. NaN이 float64이기 때문에!!"
   ]
  },
  {
   "cell_type": "markdown",
   "metadata": {},
   "source": [
    "### 4. 누락 데이터만 조회하기\n",
    "- isnull()  \n",
    "- notnull()"
   ]
  },
  {
   "cell_type": "code",
   "execution_count": 25,
   "metadata": {},
   "outputs": [
    {
     "data": {
      "text/plain": [
       "a    36.0\n",
       "b     NaN\n",
       "c    26.0\n",
       "d     NaN\n",
       "e    34.0\n",
       "dtype: float64"
      ]
     },
     "execution_count": 25,
     "metadata": {},
     "output_type": "execute_result"
    }
   ],
   "source": [
    "result"
   ]
  },
  {
   "cell_type": "code",
   "execution_count": 32,
   "metadata": {},
   "outputs": [
    {
     "name": "stdout",
     "output_type": "stream",
     "text": [
      "a    False\n",
      "b     True\n",
      "c    False\n",
      "d     True\n",
      "e    False\n",
      "dtype: bool\n",
      "******************************\n",
      "a     True\n",
      "b    False\n",
      "c     True\n",
      "d    False\n",
      "e     True\n",
      "dtype: bool\n",
      "******************************\n",
      "2\n",
      "******************************\n",
      "b   NaN\n",
      "d   NaN\n",
      "dtype: float64\n",
      "******************************\n",
      "a    36.0\n",
      "c    26.0\n",
      "e    34.0\n",
      "dtype: float64\n"
     ]
    }
   ],
   "source": [
    "print(result.isnull()) # null인 값 조회\n",
    "print('*'*30)\n",
    "print(result.notnull()) # NotNull인 값 조회\n",
    "print('*'*30)\n",
    "print(result.isnull().sum()) # 누락 데이터 개수 \n",
    "print('*'*30)\n",
    "print(result[result.isnull()])\n",
    "print('*'*30)\n",
    "print(result[result.notnull()])"
   ]
  },
  {
   "cell_type": "markdown",
   "metadata": {},
   "source": [
    "### 5. Matplot을 이용한 시각화"
   ]
  },
  {
   "cell_type": "code",
   "execution_count": 33,
   "metadata": {},
   "outputs": [],
   "source": [
    "import matplotlib.pyplot as plt"
   ]
  },
  {
   "cell_type": "code",
   "execution_count": 35,
   "metadata": {},
   "outputs": [
    {
     "data": {
      "image/png": "[encoded data removed]",
      "text/plain": [
       "<Figure size 432x288 with 1 Axes>"
      ]
     },
     "metadata": {
      "needs_background": "light"
     },
     "output_type": "display_data"
    }
   ],
   "source": [
    "# 누락 데이터가 아닌 값들을 시각화해 본다.\n",
    "result[result.notnull()].plot(kind='bar')\n",
    "# result[result.isnull()].plot(kind='bar') # numeric한 것만이 그래프 대상\n",
    "plt.show()"
   ]
  }
 ],
 "metadata": {
  "kernelspec": {
   "display_name": "Python 3",
   "language": "python",
   "name": "python3"
  },
  "language_info": {
   "codemirror_mode": {
    "name": "ipython",
    "version": 3
   },
   "file_extension": ".py",
   "mimetype": "text/x-python",
   "name": "python",
   "nbconvert_exporter": "python",
   "pygments_lexer": "ipython3",
   "version": "3.8.5"
  }
 },
 "nbformat": 4,
 "nbformat_minor": 4
}

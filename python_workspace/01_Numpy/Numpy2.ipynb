{
 "cells": [
  {
   "cell_type": "markdown",
   "metadata": {},
   "source": [
    "### 1. 랜덤함수와 seed값 설정하기"
   ]
  },
  {
   "cell_type": "markdown",
   "metadata": {},
   "source": [
    "#### seed값 설정하기\n",
    "\n",
    "여러 명이서 작업할 때 랜점한 값이 나오되. 동일한 랜덤한 값이 나오도록 지정하는 방법   \n",
    "보통은 한 번만 지정하면 계속해서 사용할 수 있다.\n",
    "\n",
    "seed값을 설정하기 않을 때는 랜덤한 난수 값이 어떤 기준으로 만들어질까?  \n",
    "컴퓨터 내부적 시간을 기준으로 그때마다 다른 값을 도출하도록 알고리즘이 구현되어져 있다.  \n",
    "시드값은 seed()함수 안에 숫자를 넣음으로써 수동으로 값을 만들어내는 알고리즘...  \n",
    "\n",
    "시드값은 0 혹은 양의 정수만 사용 가능  \n",
    "seed(0)  \n",
    "seed(100)  \n",
    "seed(23)  \n",
    "이때 seed()안에 넣는 정수가 동일하면 동일한 알고리즘이 돌기 때문에 같은 수의 난수를 지정받을수 있다."
   ]
  },
  {
   "cell_type": "code",
   "execution_count": 35,
   "metadata": {},
   "outputs": [],
   "source": [
    "np.random.seed(0)"
   ]
  },
  {
   "cell_type": "code",
   "execution_count": 11,
   "metadata": {},
   "outputs": [
    {
     "data": {
      "text/plain": [
       "array([[-1.74976547,  0.3426804 ,  1.1530358 , -0.25243604],\n",
       "       [ 0.98132079,  0.51421884,  0.22117967, -1.07004333],\n",
       "       [-0.18949583,  0.25500144, -0.45802699,  0.43516349],\n",
       "       [-0.58359505,  0.81684707,  0.67272081, -0.10441114]])"
      ]
     },
     "execution_count": 11,
     "metadata": {},
     "output_type": "execute_result"
    }
   ],
   "source": [
    "import numpy as np\n",
    "\n",
    "arr1 = np.random.randn(4,4)\n",
    "arr1"
   ]
  },
  {
   "cell_type": "code",
   "execution_count": 12,
   "metadata": {},
   "outputs": [
    {
     "data": {
      "text/plain": [
       "array([1, 2, 3, 4, 5, 6, 7, 8, 9])"
      ]
     },
     "execution_count": 12,
     "metadata": {},
     "output_type": "execute_result"
    }
   ],
   "source": [
    "arr2 = np.arange(1,10)\n",
    "arr2"
   ]
  },
  {
   "cell_type": "code",
   "execution_count": 16,
   "metadata": {},
   "outputs": [
    {
     "data": {
      "text/plain": [
       "array([[1, 2, 3],\n",
       "       [4, 5, 6],\n",
       "       [7, 8, 9]])"
      ]
     },
     "execution_count": 16,
     "metadata": {},
     "output_type": "execute_result"
    }
   ],
   "source": [
    "# reshape 함수를 사용할 때는 인자값을 잘 선택해야 한다.\n",
    "# arr3 = arr2.reshape(2,4) # error\n",
    "arr3 = arr2.reshape(3,3)\n",
    "arr3"
   ]
  },
  {
   "cell_type": "code",
   "execution_count": 36,
   "metadata": {},
   "outputs": [
    {
     "name": "stdout",
     "output_type": "stream",
     "text": [
      "[[15 10 13 13]\n",
      " [17 19 13 15]\n",
      " [12 14 17 16]\n",
      " [18 18 11 16]]\n"
     ]
    }
   ],
   "source": [
    "arr4 = np.random.randint(10,20,16).reshape(4,4)\n",
    "print(arr4)\n",
    "\n",
    "arr4_1 = np.random.randint(10, size = 9)\n",
    "print(arr4_1)"
   ]
  },
  {
   "cell_type": "markdown",
   "metadata": {},
   "source": [
    "### 2. 인덱싱, 슬라이싱"
   ]
  },
  {
   "cell_type": "code",
   "execution_count": 20,
   "metadata": {},
   "outputs": [
    {
     "data": {
      "text/plain": [
       "array([0, 1, 2, 3, 4])"
      ]
     },
     "execution_count": 20,
     "metadata": {},
     "output_type": "execute_result"
    }
   ],
   "source": [
    "narray = np.arange(5)\n",
    "narray"
   ]
  },
  {
   "cell_type": "code",
   "execution_count": 27,
   "metadata": {},
   "outputs": [
    {
     "name": "stdout",
     "output_type": "stream",
     "text": [
      "1 4\n",
      "[1 2 3 4]\n",
      "[0 1 2 3 4]\n",
      "[2 3]\n"
     ]
    }
   ],
   "source": [
    "# 1. 인덱싱과 슬라이싱으로 값 추출하기\n",
    "'''\n",
    "narray[-1] : 인덱스에 음수가 붙으면 뒤에서 n번째로 이해하기\n",
    "'''\n",
    "print(narray[1], narray[-1]) \n",
    "print(narray[1:]) # 두번째 요소부터 끝까지\n",
    "print(narray[:]) # 모든 요소 추출\n",
    "print(narray[2:4]) # 마지막 인덱스는 포함하지 않는다."
   ]
  },
  {
   "cell_type": "code",
   "execution_count": 37,
   "metadata": {},
   "outputs": [
    {
     "data": {
      "text/plain": [
       "array([[15, 10, 13, 13],\n",
       "       [17, 19, 13, 15],\n",
       "       [12, 14, 17, 16],\n",
       "       [18, 18, 11, 16]])"
      ]
     },
     "execution_count": 37,
     "metadata": {},
     "output_type": "execute_result"
    }
   ],
   "source": [
    "arr4"
   ]
  },
  {
   "cell_type": "code",
   "execution_count": 51,
   "metadata": {},
   "outputs": [
    {
     "name": "stdout",
     "output_type": "stream",
     "text": [
      "13\n",
      "13\n",
      "[17 19 13 15]\n",
      "[17 19 13 15]\n",
      "[[17 19 13 15]]\n",
      "[17 19 13 15]\n",
      "[13 15 16 16]\n",
      "[[13]\n",
      " [15]\n",
      " [16]\n",
      " [16]]\n",
      "[[13]\n",
      " [15]\n",
      " [16]\n",
      " [16]]\n",
      "[[10 13]\n",
      " [19 13]\n",
      " [14 17]\n",
      " [18 11]]\n"
     ]
    }
   ],
   "source": [
    "# 1) arr4의 첫번째 줄의 세번째 값(13)\n",
    "print(arr4[0][3])\n",
    "print(arr4[0,3])\n",
    "\n",
    "# 2) arr4의 두번째 줄 [17,19,13,15]\n",
    "print(arr4[1,:])\n",
    "print(arr4[1,0:])\n",
    "print(arr4[1:2,:]) # 2차원 출력\n",
    "print(arr4[1])\n",
    "\n",
    "# 3) arr4 전체 행에 대해서 4번째 열을 가지고 오려면?\n",
    "print(arr4[:, 3])\n",
    "print(arr4[0:4, 3:4]) # 2차원\n",
    "print(arr4[:, 3:]) # 2차원\n",
    "\n",
    "# 4) arr4 전체 행에 대해서 1,2번째 열을 가지고 오려면?\n",
    "print(arr4[:,1:3])"
   ]
  },
  {
   "cell_type": "markdown",
   "metadata": {},
   "source": [
    "### 3. 인덱싱과 조건 슬라이싱\n",
    "- 신입 평가 시 이 부분에서 어려운 문제를 내서 걸러냄\n",
    "- 열거된 배열의 값에서 논리연산자 혹은 where 함수를 사용해서 내가 원하는 값을 가져올 수 있어야 한다."
   ]
  },
  {
   "cell_type": "code",
   "execution_count": 88,
   "metadata": {},
   "outputs": [
    {
     "name": "stdout",
     "output_type": "stream",
     "text": [
      "[[ 1.47734042 -0.08489011  0.42769657 -0.30427959]\n",
      " [ 0.20462457 -0.08333816  1.82893094 -0.24417948]\n",
      " [ 0.47526083 -0.71421619 -1.18693587  0.60889084]\n",
      " [ 0.50422279 -0.51399562  0.81847537  1.15660011]]\n",
      "[[ True False  True False]\n",
      " [ True False  True False]\n",
      " [ True False False  True]\n",
      " [ True False  True  True]]\n",
      "[1.47734042 0.42769657 0.20462457 1.82893094 0.47526083 0.60889084\n",
      " 0.50422279 0.81847537 1.15660011]\n",
      "[-0.08489011 -0.30427959 -0.08333816 -0.24417948 -0.71421619 -1.18693587\n",
      " -0.51399562]\n"
     ]
    },
    {
     "data": {
      "text/plain": [
       "array([[1.47734042, 0.        , 0.42769657, 0.        ],\n",
       "       [0.20462457, 0.        , 1.82893094, 0.        ],\n",
       "       [0.47526083, 0.        , 0.        , 0.60889084],\n",
       "       [0.50422279, 0.        , 0.81847537, 1.15660011]])"
      ]
     },
     "execution_count": 88,
     "metadata": {},
     "output_type": "execute_result"
    }
   ],
   "source": [
    "arr2 = np.random.randn(4,4)\n",
    "print(arr2)\n",
    "\n",
    "# 1. 논리 연산자 사용\n",
    "print(arr2>0)\n",
    "print(arr2[arr2 > 0])\n",
    "print(arr2[arr2 < 0])\n",
    "\n",
    "# 2. 0보다 작은 값들(음수)은 전부 다 0으로 바꿔보겠다.\n",
    "arr2[arr2 < 0] = 0\n",
    "arr2 # 원본이 바뀐다."
   ]
  },
  {
   "cell_type": "code",
   "execution_count": 66,
   "metadata": {},
   "outputs": [
    {
     "data": {
      "text/plain": [
       "array([[ 0.06000009,  0.51379384, -1.        , -1.        ],\n",
       "       [ 0.35476966, -1.        ,  0.47174338, -1.        ],\n",
       "       [-1.        ,  0.25278526, -1.        , -1.        ],\n",
       "       [ 0.79976165,  2.2141412 ,  0.43887142,  0.6382597 ]])"
      ]
     },
     "execution_count": 66,
     "metadata": {},
     "output_type": "execute_result"
    }
   ],
   "source": [
    "# 3. where 함수를 사용\n",
    "arr2_w = np.where(arr2 > 0, arr2, -1)\n",
    "arr2_w"
   ]
  },
  {
   "cell_type": "code",
   "execution_count": 76,
   "metadata": {},
   "outputs": [
    {
     "data": {
      "text/plain": [
       "array([3, 4, 5, 6])"
      ]
     },
     "execution_count": 76,
     "metadata": {},
     "output_type": "execute_result"
    }
   ],
   "source": [
    "### 중요 --> 많이 틀리는 이유\n",
    "exama = np.array([[1,2],[3,4],[5,6]])\n",
    "exama\n",
    "\n",
    "# exama[exama[:] > 2]\n",
    "result = (exama>2)\n",
    "result\n",
    "\n",
    "exama[result]"
   ]
  },
  {
   "cell_type": "markdown",
   "metadata": {},
   "source": [
    "### 4. Numpy 통계함수\n",
    "\n",
    "- sum() : 합\n",
    "- min() : 최소값\n",
    "- max() : 최대값\n",
    "- mena() : 평균값\n",
    "- argmax() : 가장 큰 값을 갖는 인덱스\n",
    "- argmin() : 가장 작은 값을 갖는 인덱스\n",
    "- cumsum() : 누적합\n"
   ]
  },
  {
   "cell_type": "code",
   "execution_count": 77,
   "metadata": {},
   "outputs": [
    {
     "data": {
      "text/plain": [
       "array([[15, 10, 13, 13],\n",
       "       [17, 19, 13, 15],\n",
       "       [12, 14, 17, 16],\n",
       "       [18, 18, 11, 16]])"
      ]
     },
     "execution_count": 77,
     "metadata": {},
     "output_type": "execute_result"
    }
   ],
   "source": [
    "arr4"
   ]
  },
  {
   "cell_type": "code",
   "execution_count": 86,
   "metadata": {},
   "outputs": [
    {
     "name": "stdout",
     "output_type": "stream",
     "text": [
      "237\n",
      "[51 64 59 63]\n",
      "[62 61 54 60]\n",
      "[3 1 2 2]\n",
      "[0 1 2 0]\n",
      "[ 15  25  38  51  68  87 100 115 127 141 158 174 192 210 221 237]\n"
     ]
    }
   ],
   "source": [
    "print(np.sum(arr4))\n",
    "print(np.sum(arr4, axis = 1)) # 열의 합\n",
    "print(np.sum(arr4, axis = 0)) # 행의 합\n",
    "print(np.argmax(arr4, axis = 0)) # asix = 0이므로 위에서 아래로 행을 판별\n",
    "print(np.argmax(arr4, axis = 1)) # asix = 1이므로 왼쪽에서 오른쪽으로 열을 판별\n",
    "print(np.cumsum(arr4))"
   ]
  }
 ],
 "metadata": {
  "kernelspec": {
   "display_name": "Python 3",
   "language": "python",
   "name": "python3"
  },
  "language_info": {
   "codemirror_mode": {
    "name": "ipython",
    "version": 3
   },
   "file_extension": ".py",
   "mimetype": "text/x-python",
   "name": "python",
   "nbconvert_exporter": "python",
   "pygments_lexer": "ipython3",
   "version": "3.8.3"
  }
 },
 "nbformat": 4,
 "nbformat_minor": 4
}

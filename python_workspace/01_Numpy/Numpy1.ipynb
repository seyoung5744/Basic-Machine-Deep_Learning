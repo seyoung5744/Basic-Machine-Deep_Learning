{
 "cells": [
  {
   "cell_type": "markdown",
   "metadata": {},
   "source": [
    "# Numpy\n",
    "\n",
    "Numpy는 Numeric Python의 줄임말  \n",
    "수학 분양 관련된 통계나 연산 작업 시 사용하는 라이브러리  \n",
    "과학 계산 컴퓨팅와 데이터 분석에 필요한 기본적인 패키지  \n",
    "\n",
    "파이썬의 리스트와 거의 흡사  \n",
    "리스트보다 빠르고 메모리 효율성이 높아서 성능적인 측면에서 훨씬 우위를 차지한다.  \n",
    "\n",
    "Numpy 사용  \n",
    "- 1) 해당 모듈을 import  \n",
    "- 2) array() 함수 사용  \n",
    "- 3) random 모듈 사용  "
   ]
  },
  {
   "cell_type": "code",
   "execution_count": 1,
   "metadata": {},
   "outputs": [],
   "source": [
    "import numpy as np"
   ]
  },
  {
   "cell_type": "markdown",
   "metadata": {},
   "source": [
    "### 1. Numpy 배열과 리스트를 비교"
   ]
  },
  {
   "cell_type": "markdown",
   "metadata": {},
   "source": [
    "####  numpy의 array() 함수 사용"
   ]
  },
  {
   "cell_type": "code",
   "execution_count": 15,
   "metadata": {},
   "outputs": [
    {
     "name": "stdout",
     "output_type": "stream",
     "text": [
      "[4, 5, 6, 7]\n",
      "[4 5 6 7]\n",
      "<class 'list'>\n",
      "<class 'numpy.ndarray'>\n",
      "[5, 6]\n",
      "[5 6]\n",
      "[-5, 6]\n",
      "[-5  6]\n",
      "[4, 5, 6, 7]\n",
      "[ 4 -5  6  7]\n"
     ]
    }
   ],
   "source": [
    "# 1. array() 함수 사용\n",
    "myList = [4,5,6,7] # 리스트\n",
    "myArr = np.array(myList) # numpy 배열\n",
    "\n",
    "print(myList)\n",
    "print(myArr)\n",
    "\n",
    "'''\n",
    "ndarray\n",
    "다차원 행렬 구조를 지원하는 Numpy의 핵심 클래스\n",
    "Numpy 배열은 ndarray클래스 타입으로 지원된다.\n",
    "list - - - python\n",
    "ndarray - - - Numpy\n",
    "\n",
    "1차원 구조 --> 벡터\n",
    "2차원 구조 --> 메트릭트\n",
    "\n",
    "'''\n",
    "print(type(myList))\n",
    "print(type(myArr)) # ndarray 기억하기\n",
    "\n",
    "'''\n",
    "myListSlice : 카멜 기법\n",
    "myList_slice : 케밥 기법\n",
    "'''\n",
    "'''\n",
    "인덱싱 -> 몇 번째를 가리키는 것\n",
    "슬라이싱 -> 시작 인덱스 : 끝 인덱스 ( 시작 ~ 끝-1 까지 자르겠다.)\n",
    "'''\n",
    "myList_slice = myList[1:3]\n",
    "print(myList_slice)\n",
    "\n",
    "myArr_slice = myArr[1:3]\n",
    "print(myArr_slice)\n",
    "\n",
    "myList_slice[0] = -5\n",
    "myArr_slice[0] = -5\n",
    "\n",
    "print(myList_slice)\n",
    "print(myArr_slice)\n",
    "\n",
    "# 리스트와 ndarray의 차이점을 정리\n",
    "print(myList) # 원본 안바뀐다. => 카피해서 새로운걸 만든다.\n",
    "print(myArr) # 원본 바뀐다. => 원본을 바로 바꿔 버린다...메모리 효율성이 뛰어나다."
   ]
  },
  {
   "cell_type": "markdown",
   "metadata": {},
   "source": [
    "#### numpy의 random 모듈 사용"
   ]
  },
  {
   "cell_type": "code",
   "execution_count": 42,
   "metadata": {},
   "outputs": [
    {
     "name": "stdout",
     "output_type": "stream",
     "text": [
      "[0.15802793 0.67571097 0.65626651]\n",
      "<class 'numpy.ndarray'>\n",
      "[4 2 8 3 9]\n",
      "<class 'numpy.ndarray'>\n",
      "[-0.66959534 -0.24021649  1.30178472 -0.56485956  0.1427052  -1.41078527\n",
      " -0.13585211 -0.05790501  0.15519523 -1.25378682]\n",
      "<class 'numpy.ndarray'>\n"
     ]
    }
   ],
   "source": [
    "a = np.random.rand(3)\n",
    "print(a)\n",
    "print(type(a))\n",
    "\n",
    "# np.random.rand? # ? 를 붙이면 해당 메소드의 설명 확인 가능\n",
    "# 2차원일때 [[]]와 같이 []안에 []가 있음. 중요!!\n",
    "\n",
    "b = np.random.randint(1,10,5) # 1~(10-1)까지의 정수 5개\n",
    "print(b)\n",
    "print(type(b))\n",
    "\n",
    "c = np.random.randn(10) # 가우시안 표준분포\n",
    "print(c)\n",
    "print(type(c))"
   ]
  },
  {
   "cell_type": "markdown",
   "metadata": {},
   "source": [
    "####  2. Numpy배열의 초기화\n",
    "\n",
    "- zeros()\n",
    "- ones()\n",
    "- arange()"
   ]
  },
  {
   "cell_type": "code",
   "execution_count": 51,
   "metadata": {},
   "outputs": [
    {
     "name": "stdout",
     "output_type": "stream",
     "text": [
      "[0. 0. 0. 0. 0. 0. 0. 0. 0. 0.]\n",
      "[1. 1. 1. 1. 1. 1. 1. 1. 1. 1.]\n",
      "[[1. 0. 0.]\n",
      " [0. 1. 0.]\n",
      " [0. 0. 1.]]\n",
      "[0 1 2]\n",
      "[3 4 5 6]\n",
      "[3 5 7 9]\n"
     ]
    }
   ],
   "source": [
    "# 1. zeros()\n",
    "\n",
    "az = np.zeros(10) # 인자값은 size\n",
    "print(az) # 실수이기 때문에 0. 으로 표기\n",
    "\n",
    "# 2. onese() : 1값으로 이뤄진 크기가 n인 배열\n",
    "ao = np.ones(10)\n",
    "print(ao)\n",
    "\n",
    "# 3. eye() : n by n 단위의 배열을 생성\n",
    "ae = np.eye(3)\n",
    "print(ae)\n",
    "\n",
    "# 4. arange()\n",
    "print(np.arange(3)) \n",
    "print(np.arange(3, 7)) \n",
    "print(np.arange(3, 10, 2)) "
   ]
  },
  {
   "cell_type": "markdown",
   "metadata": {},
   "source": [
    "ndarray를 생성할 때   \n",
    "0, 1로 값을 채우는 함수가 제공되어져 있다...zeros(), ones()  \n",
    "2, 3, ?..등의 값으로 초기화 하고 싶다.  \n",
    "방법은?  "
   ]
  },
  {
   "cell_type": "code",
   "execution_count": 68,
   "metadata": {},
   "outputs": [
    {
     "name": "stdout",
     "output_type": "stream",
     "text": [
      "[4. 4. 4. 4. 4. 4. 4. 4. 4. 4.]\n",
      "[[1. 0. 0.]\n",
      " [0. 1. 0.]\n",
      " [0. 0. 1.]]\n",
      "[[-11 -11 -11 -11 -11]\n",
      " [-11 -11 -11 -11 -11]\n",
      " [-11 -11 -11 -11 -11]\n",
      " [-11 -11 -11 -11 -11]\n",
      " [-11 -11 -11 -11 -11]]\n"
     ]
    }
   ],
   "source": [
    "# np함수에 특정한 값에 대한 연산이 가능하다.\n",
    "# 결론은 모든 특정한 값으로 초기화 가능하다.\n",
    "am = np.ones(10) + 3\n",
    "print(am)\n",
    "\n",
    "print(np.eye(3))\n",
    "\n",
    "# full() 모든 배열의 초기화는 어느정도 가능하다.\n",
    "af = np.full((5,5), -11)\n",
    "print(af)"
   ]
  },
  {
   "cell_type": "markdown",
   "metadata": {},
   "source": [
    "#### 3. 리스트와 np 배열의 차이점"
   ]
  },
  {
   "cell_type": "markdown",
   "metadata": {},
   "source": [
    "리스트와 np 배열의 차이점 정리\n",
    "\n",
    "리스트는 서로 다른 타입의 값들 저장이 가능한 반면에  \n",
    "np 배열은 하나의 자료형만 저장할 수 있다."
   ]
  },
  {
   "cell_type": "code",
   "execution_count": 71,
   "metadata": {},
   "outputs": [
    {
     "name": "stdout",
     "output_type": "stream",
     "text": [
      "[1, 2, 3, '4', 5]\n",
      "<class 'list'>\n",
      "[1, 2, 3, 4.0, 5]\n",
      "<class 'list'>\n"
     ]
    }
   ],
   "source": [
    "L = [1,2,3,'4',5]\n",
    "number = [1,2,3, 4.0, 5]\n",
    "\n",
    "print(L)\n",
    "print(type(L))\n",
    "print(number)\n",
    "print(type(number))"
   ]
  },
  {
   "cell_type": "code",
   "execution_count": 75,
   "metadata": {},
   "outputs": [
    {
     "name": "stdout",
     "output_type": "stream",
     "text": [
      "['1' '2' '3' '4' '5']\n",
      "[1. 2. 3. 4. 5.]\n",
      "[1. 2. 3. 4.]\n"
     ]
    }
   ],
   "source": [
    "# 리스트가 np 배열로 초기화될 때 데이터 타입이 큰 것을 기준으로 초기화됨.\n",
    "narray_1 = np.array(L)\n",
    "print(narray_1)\n",
    "\n",
    "narray_2 = np.array(number)\n",
    "print(narray_2)\n",
    "\n",
    "# 값의 타입을 명시해서 저장할 수 도 있다. 이때 dtype 속성을 사용한다.\n",
    "# narray_3 = np.array([1,2,3,4], dtype = 'float') # 같은 자료형만 저장...\n",
    "narray_3 = np.array([1,2,3,4], dtype = np.float32)\n",
    "print(narray_3)"
   ]
  },
  {
   "cell_type": "markdown",
   "metadata": {},
   "source": [
    "#### 4. Numpy 배열의 속성 혹은 함수\n",
    "\n",
    "- ndim : 배열의 차원 수 or 배열의 축 수\n",
    "- shape : 배열 각 차원의 크기를 튜플 형태로 표현. n행과 m열의 행렬의 경우 (n,m) 형태의 튜플로 나타냄\n",
    "- reshape : 행,열 재정의\n",
    "- size    \n",
    "- type : 배열 객체의 type\n",
    "- dtype : 배열의 원소의 종류. 기본적으로 넘파이의 원소들은 모두 같은 데이터 타입을 가지고 있다."
   ]
  },
  {
   "cell_type": "code",
   "execution_count": 88,
   "metadata": {},
   "outputs": [
    {
     "name": "stdout",
     "output_type": "stream",
     "text": [
      "[[1 2 3]\n",
      " [4 5 6]]\n",
      "데이터 타입 :  <class 'numpy.ndarray'>\n",
      "차원 :  2\n",
      "행열 :  (2, 3)\n",
      "개수 :  6\n",
      "\n",
      " ******************************\n",
      "2\n",
      "(2, 3)\n",
      "6\n",
      "int32\n",
      "\n",
      " ******************************\n",
      "[[1. 2. 3.]\n",
      " [4. 5. 6.]]\n",
      "<class 'numpy.ndarray'>\n",
      "\n",
      " ******************************\n",
      "[[ 0  1  2  3]\n",
      " [ 4  5  6  7]\n",
      " [ 8  9 10 11]\n",
      " [12 13 14 15]\n",
      " [16 17 18 19]\n",
      " [20 21 22 23]\n",
      " [24 25 26 27]\n",
      " [28 29 30 31]]\n"
     ]
    }
   ],
   "source": [
    "arr1 = np.array([[1.0,2,3], [4,5,6]], dtype = np.int32)\n",
    "print(arr1)\n",
    "\n",
    "# np의 함수를 이용해서 \n",
    "# 데이터의 타입, 차원, 몇행몇열, 테이터가 총 몇개인지, ...출력\n",
    "print('데이터 타입 : ',type(arr1)) # 객체 type\n",
    "print('차원 : ',np.ndim(arr1))\n",
    "print('행열 : ',np.shape(arr1))\n",
    "print('개수 : ',np.size(arr1))\n",
    "print('\\n','*'*30)\n",
    "\n",
    "# 속성으로 나타낼 때\n",
    "print(arr1.ndim)\n",
    "print(arr1.shape)\n",
    "print(arr1.size)\n",
    "print(arr1.dtype) # 배열 안 값의 type\n",
    "# print(arr1.type) # type은 함수지 속성은 아님\n",
    "print('\\n','*'*30)\n",
    "\n",
    "# arr1 배열의 원소값의 타입을 한번에 다른 타입으로 바꿀 수 있다. astype()\n",
    "# 정수 --> 실수\n",
    "arr1_1 = arr1.astype(np.float64)\n",
    "print(arr1_1)\n",
    "print(type(arr1_1))\n",
    "print('\\n','*'*30)\n",
    "\n",
    "arr2 = np.arange(32).reshape(8,4)\n",
    "print(arr2)"
   ]
  }
 ],
 "metadata": {
  "kernelspec": {
   "display_name": "Python 3",
   "language": "python",
   "name": "python3"
  },
  "language_info": {
   "codemirror_mode": {
    "name": "ipython",
    "version": 3
   },
   "file_extension": ".py",
   "mimetype": "text/x-python",
   "name": "python",
   "nbconvert_exporter": "python",
   "pygments_lexer": "ipython3",
   "version": "3.8.3"
  }
 },
 "nbformat": 4,
 "nbformat_minor": 4
}

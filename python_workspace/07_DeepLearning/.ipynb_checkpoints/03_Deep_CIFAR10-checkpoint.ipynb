{
 "cells": [
  {
   "cell_type": "code",
   "execution_count": 44,
   "id": "amino-monday",
   "metadata": {},
   "outputs": [],
   "source": [
    "import torch\n",
    "import torchvision\n",
    "import torchvision.transforms as transforms\n",
    "import numpy as np\n",
    "import matplotlib.pyplot as plt"
   ]
  },
  {
   "cell_type": "markdown",
   "id": "magnetic-destination",
   "metadata": {},
   "source": [
    "### CIFAR10 DataSets Loading 2steps"
   ]
  },
  {
   "cell_type": "markdown",
   "id": "pregnant-background",
   "metadata": {},
   "source": [
    "#### DataLoading 1step"
   ]
  },
  {
   "cell_type": "code",
   "execution_count": 45,
   "id": "bottom-trailer",
   "metadata": {},
   "outputs": [
    {
     "name": "stdout",
     "output_type": "stream",
     "text": [
      "Files already downloaded and verified\n"
     ]
    }
   ],
   "source": [
    "train_dataset = torchvision.datasets.CIFAR10(root='../../down/', # 물리적 위치 지정. zip파일 형태!!(중요~!!나중에 custom 데이터할 때 알게될것이다~)\n",
    "                                             train=True, # train 데이터라는 것, train, test 나눠져 있다는 것을 알 수 있다.\n",
    "                                             transform=transforms.ToTensor(), \n",
    "                                             # 1. Scaling이 진행됨. 255로 나눠줌\n",
    "                                             # 2. Tensor 타입으로 바꿔줌. torch 데이터 타입\n",
    "                                             # 3. 채널 값을 앞으로 보낸다. 그러므로 이미지 작업 시 채널을 뒤로 보내야함\n",
    "                                             download=True)"
   ]
  },
  {
   "cell_type": "code",
   "execution_count": 75,
   "id": "perfect-oregon",
   "metadata": {},
   "outputs": [
    {
     "name": "stdout",
     "output_type": "stream",
     "text": [
      "tensor([[[0.2314, 0.1686, 0.1961,  ..., 0.6196, 0.5961, 0.5804],\n",
      "         [0.0627, 0.0000, 0.0706,  ..., 0.4824, 0.4667, 0.4784],\n",
      "         [0.0980, 0.0627, 0.1922,  ..., 0.4627, 0.4706, 0.4275],\n",
      "         ...,\n",
      "         [0.8157, 0.7882, 0.7765,  ..., 0.6275, 0.2196, 0.2078],\n",
      "         [0.7059, 0.6784, 0.7294,  ..., 0.7216, 0.3804, 0.3255],\n",
      "         [0.6941, 0.6588, 0.7020,  ..., 0.8471, 0.5922, 0.4824]],\n",
      "\n",
      "        [[0.2431, 0.1804, 0.1882,  ..., 0.5176, 0.4902, 0.4863],\n",
      "         [0.0784, 0.0000, 0.0314,  ..., 0.3451, 0.3255, 0.3412],\n",
      "         [0.0941, 0.0275, 0.1059,  ..., 0.3294, 0.3294, 0.2863],\n",
      "         ...,\n",
      "         [0.6667, 0.6000, 0.6314,  ..., 0.5216, 0.1216, 0.1333],\n",
      "         [0.5451, 0.4824, 0.5647,  ..., 0.5804, 0.2431, 0.2078],\n",
      "         [0.5647, 0.5059, 0.5569,  ..., 0.7216, 0.4627, 0.3608]],\n",
      "\n",
      "        [[0.2471, 0.1765, 0.1686,  ..., 0.4235, 0.4000, 0.4039],\n",
      "         [0.0784, 0.0000, 0.0000,  ..., 0.2157, 0.1961, 0.2235],\n",
      "         [0.0824, 0.0000, 0.0314,  ..., 0.1961, 0.1961, 0.1647],\n",
      "         ...,\n",
      "         [0.3765, 0.1333, 0.1020,  ..., 0.2745, 0.0275, 0.0784],\n",
      "         [0.3765, 0.1647, 0.1176,  ..., 0.3686, 0.1333, 0.1333],\n",
      "         [0.4549, 0.3686, 0.3412,  ..., 0.5490, 0.3294, 0.2824]]])\n"
     ]
    }
   ],
   "source": [
    "# 다운받은 데이터를 일단 실제로 출력\n",
    "# train 데이터는 픽셀 값이랑 label이 제공됨\n",
    "print(train_dataset[0][0])"
   ]
  },
  {
   "cell_type": "code",
   "execution_count": 47,
   "id": "controlling-courage",
   "metadata": {},
   "outputs": [
    {
     "data": {
      "text/plain": [
       "6"
      ]
     },
     "execution_count": 47,
     "metadata": {},
     "output_type": "execute_result"
    }
   ],
   "source": [
    "image, label = train_dataset[0]\n",
    "image\n",
    "label"
   ]
  },
  {
   "cell_type": "code",
   "execution_count": 48,
   "id": "numerous-malpractice",
   "metadata": {},
   "outputs": [
    {
     "name": "stdout",
     "output_type": "stream",
     "text": [
      "torch.Size([3, 32, 32])\n"
     ]
    }
   ],
   "source": [
    "print(image.shape) # 32x32x3"
   ]
  },
  {
   "cell_type": "code",
   "execution_count": 49,
   "id": "allied-alarm",
   "metadata": {},
   "outputs": [
    {
     "name": "stdout",
     "output_type": "stream",
     "text": [
      "torch.Size([3, 32, 32])\n"
     ]
    }
   ],
   "source": [
    "# ToTensor 특징3. 채널 값을 앞으로 보낸다\n",
    "# 그러므로 이미지 작업 시 채널을 뒤로 보내야함\n",
    "print(image.size())"
   ]
  },
  {
   "cell_type": "code",
   "execution_count": 50,
   "id": "designed-camera",
   "metadata": {},
   "outputs": [
    {
     "data": {
      "text/plain": [
       "array([[[0.23137255, 0.16862746, 0.19607843, ..., 0.61960787,\n",
       "         0.59607846, 0.5803922 ],\n",
       "        [0.0627451 , 0.        , 0.07058824, ..., 0.48235294,\n",
       "         0.46666667, 0.47843137],\n",
       "        [0.09803922, 0.0627451 , 0.19215687, ..., 0.4627451 ,\n",
       "         0.47058824, 0.42745098],\n",
       "        ...,\n",
       "        [0.8156863 , 0.7882353 , 0.7764706 , ..., 0.627451  ,\n",
       "         0.21960784, 0.20784314],\n",
       "        [0.7058824 , 0.6784314 , 0.7294118 , ..., 0.72156864,\n",
       "         0.38039216, 0.3254902 ],\n",
       "        [0.69411767, 0.65882355, 0.7019608 , ..., 0.84705883,\n",
       "         0.5921569 , 0.48235294]],\n",
       "\n",
       "       [[0.24313726, 0.18039216, 0.1882353 , ..., 0.5176471 ,\n",
       "         0.49019608, 0.4862745 ],\n",
       "        [0.07843138, 0.        , 0.03137255, ..., 0.34509805,\n",
       "         0.3254902 , 0.34117648],\n",
       "        [0.09411765, 0.02745098, 0.10588235, ..., 0.32941177,\n",
       "         0.32941177, 0.28627452],\n",
       "        ...,\n",
       "        [0.6666667 , 0.6       , 0.6313726 , ..., 0.52156866,\n",
       "         0.12156863, 0.13333334],\n",
       "        [0.54509807, 0.48235294, 0.5647059 , ..., 0.5803922 ,\n",
       "         0.24313726, 0.20784314],\n",
       "        [0.5647059 , 0.5058824 , 0.5568628 , ..., 0.72156864,\n",
       "         0.4627451 , 0.36078432]],\n",
       "\n",
       "       [[0.24705882, 0.1764706 , 0.16862746, ..., 0.42352942,\n",
       "         0.4       , 0.40392157],\n",
       "        [0.07843138, 0.        , 0.        , ..., 0.21568628,\n",
       "         0.19607843, 0.22352941],\n",
       "        [0.08235294, 0.        , 0.03137255, ..., 0.19607843,\n",
       "         0.19607843, 0.16470589],\n",
       "        ...,\n",
       "        [0.3764706 , 0.13333334, 0.10196079, ..., 0.27450982,\n",
       "         0.02745098, 0.07843138],\n",
       "        [0.3764706 , 0.16470589, 0.11764706, ..., 0.36862746,\n",
       "         0.13333334, 0.13333334],\n",
       "        [0.45490196, 0.36862746, 0.34117648, ..., 0.54901963,\n",
       "         0.32941177, 0.28235295]]], dtype=float32)"
      ]
     },
     "execution_count": 50,
     "metadata": {},
     "output_type": "execute_result"
    }
   ],
   "source": [
    "# 받아온 데이터는 tensor 배열이기 때문에 이미지로 출력하기 위해\n",
    "# np.array()로 바꿔줘야 한다.\n",
    "image = image.numpy()\n",
    "image\n",
    "\n",
    "# im : image로 보이겠다. \n",
    "# plt.imshow(image) # 에러 발생!! 채널이 앞부분에 있기 때문에"
   ]
  },
  {
   "cell_type": "code",
   "execution_count": 51,
   "id": "naval-butler",
   "metadata": {},
   "outputs": [
    {
     "name": "stdout",
     "output_type": "stream",
     "text": [
      "(32, 32, 3)\n"
     ]
    }
   ],
   "source": [
    "# numpy.moveaxis()\n",
    "image = np.moveaxis(image, 0, -1) # 맨 앞(0)에 있는 것을 맨 뒤로(-1)\n",
    "print(image.shape)"
   ]
  },
  {
   "cell_type": "code",
   "execution_count": 52,
   "id": "configured-alignment",
   "metadata": {},
   "outputs": [
    {
     "data": {
      "text/plain": [
       "<matplotlib.image.AxesImage at 0x28dd8457880>"
      ]
     },
     "execution_count": 52,
     "metadata": {},
     "output_type": "execute_result"
    },
    {
     "data": {
      "image/png": "[encoded data removed]",
      "text/plain": [
       "<Figure size 432x288 with 1 Axes>"
      ]
     },
     "metadata": {
      "needs_background": "light"
     },
     "output_type": "display_data"
    }
   ],
   "source": [
    "plt.imshow(image) # 저해상도...나중에 우리가 실제로 쓰는 이미지는 고해상도...작업하기 어렵고...acc..toydata 편리하게 쓸수 있는 데이터"
   ]
  },
  {
   "cell_type": "markdown",
   "id": "formed-somewhere",
   "metadata": {},
   "source": [
    "### DataLoading 2step\n",
    "- 5만장을 한번에 model에 집어넣을 컴퓨터 사양은 없으므로 한번엔 못함.\n",
    "- 이때 batch_size로 쪼개서 model에 넣는다."
   ]
  },
  {
   "cell_type": "code",
   "execution_count": 53,
   "id": "worst-wrestling",
   "metadata": {},
   "outputs": [],
   "source": [
    "train_loader = torch.utils.data.DataLoader(dataset=train_dataset,\n",
    "                                           batch_size=64, # model에 몇개씩 load할 것인지 지정\n",
    "                                           shuffle=True) # Data Augmentation"
   ]
  },
  {
   "cell_type": "code",
   "execution_count": 54,
   "id": "described-investing",
   "metadata": {},
   "outputs": [
    {
     "name": "stdout",
     "output_type": "stream",
     "text": [
      "782\n"
     ]
    }
   ],
   "source": [
    "cnt = 0\n",
    "\n",
    "# for 문 몇번? 5만 / 64 = 781.xxx가 나오는데...781번? 782번? ...실행?\n",
    "for images, labels in train_loader: \n",
    "    '''\n",
    "    실제로 모델 정의...loss, optimization 선정의\n",
    "    예측하고\n",
    "    loss\n",
    "    optimization 초기화 zero_grad()\n",
    "    backward()\n",
    "    step()..학습을 진행\n",
    "    '''\n",
    "    cnt += 1\n",
    "\n",
    "# torch.utils.data.DataLoader 검색\n",
    "# drop_last=False 이기 때문에 버리지 않고 초과해서 반복\n",
    "print(cnt)"
   ]
  },
  {
   "cell_type": "markdown",
   "id": "miniature-polls",
   "metadata": {},
   "source": [
    "### CIFAR10 데이터 로드 중요 과정.png 참고"
   ]
  }
 ],
 "metadata": {
  "kernelspec": {
   "display_name": "Python 3",
   "language": "python",
   "name": "python3"
  },
  "language_info": {
   "codemirror_mode": {
    "name": "ipython",
    "version": 3
   },
   "file_extension": ".py",
   "mimetype": "text/x-python",
   "name": "python",
   "nbconvert_exporter": "python",
   "pygments_lexer": "ipython3",
   "version": "3.8.5"
  }
 },
 "nbformat": 4,
 "nbformat_minor": 5
}

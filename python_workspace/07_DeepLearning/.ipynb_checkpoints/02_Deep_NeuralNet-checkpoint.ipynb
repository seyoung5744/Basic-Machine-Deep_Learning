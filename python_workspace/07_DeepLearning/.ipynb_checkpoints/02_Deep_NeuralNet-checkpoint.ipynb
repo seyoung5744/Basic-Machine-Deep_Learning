{
 "cells": [
  {
   "cell_type": "code",
   "execution_count": 12,
   "id": "suspended-latino",
   "metadata": {},
   "outputs": [],
   "source": [
    "import torch\n",
    "import torch.nn as nn\n",
    "import numpy as np\n",
    "import matplotlib.pyplot as plt"
   ]
  },
  {
   "cell_type": "markdown",
   "id": "satisfactory-channel",
   "metadata": {},
   "source": [
    "### Hyper-Parameters Setting"
   ]
  },
  {
   "cell_type": "code",
   "execution_count": 13,
   "id": "outstanding-error",
   "metadata": {},
   "outputs": [],
   "source": [
    "input_size = 1 # 1차원\n",
    "output_size = 1 # 1차원\n",
    "num_epochs = 100 # 100번 학습\n",
    "learning_rate = 0.001 # 가장 대표적인 값의 중간 값(0.1~0.0001)"
   ]
  },
  {
   "cell_type": "markdown",
   "id": "statistical-ordering",
   "metadata": {},
   "source": [
    "### Data Generator"
   ]
  },
  {
   "cell_type": "code",
   "execution_count": 14,
   "id": "international-stress",
   "metadata": {
    "collapsed": true
   },
   "outputs": [
    {
     "data": {
      "text/plain": [
       "array([[1.7  ],\n",
       "       [2.76 ],\n",
       "       [2.09 ],\n",
       "       [3.19 ],\n",
       "       [1.694],\n",
       "       [1.573],\n",
       "       [3.366],\n",
       "       [2.596],\n",
       "       [2.53 ],\n",
       "       [1.221],\n",
       "       [2.827],\n",
       "       [3.465],\n",
       "       [1.65 ],\n",
       "       [2.904],\n",
       "       [1.3  ]], dtype=float32)"
      ]
     },
     "execution_count": 14,
     "metadata": {},
     "output_type": "execute_result"
    }
   ],
   "source": [
    "# Toy dataset\n",
    "x_train = np.array([[3.3], [4.4], [5.5], [6.71], [6.93], [4.168], \n",
    "                    [9.779], [6.182], [7.59], [2.167], [7.042], \n",
    "                    [10.791], [5.313], [7.997], [3.1]], dtype=np.float32)\n",
    "\n",
    "y_train = np.array([[1.7], [2.76], [2.09], [3.19], [1.694], [1.573], \n",
    "                    [3.366], [2.596], [2.53], [1.221], [2.827], \n",
    "                    [3.465], [1.65], [2.904], [1.3]], dtype=np.float32)\n",
    "\n",
    "x_train\n",
    "y_train"
   ]
  },
  {
   "cell_type": "markdown",
   "id": "lightweight-korea",
   "metadata": {},
   "source": [
    "### model Create"
   ]
  },
  {
   "cell_type": "code",
   "execution_count": 15,
   "id": "undefined-plasma",
   "metadata": {},
   "outputs": [
    {
     "data": {
      "text/plain": [
       "Linear(in_features=1, out_features=1, bias=True)"
      ]
     },
     "execution_count": 15,
     "metadata": {},
     "output_type": "execute_result"
    }
   ],
   "source": [
    "# Linear은 FCN 생성을 의미. linear -> Wx + b \n",
    "model = nn.Linear(input_size, output_size)\n",
    "model"
   ]
  },
  {
   "cell_type": "markdown",
   "id": "social-territory",
   "metadata": {},
   "source": [
    "### 선정의 - loss function, Optimization"
   ]
  },
  {
   "cell_type": "code",
   "execution_count": 16,
   "id": "patent-synthesis",
   "metadata": {},
   "outputs": [],
   "source": [
    "loss_function = nn.MSELoss()\n",
    "optimizer = torch.optim.SGD(model.parameters(), lr=learning_rate)"
   ]
  },
  {
   "cell_type": "markdown",
   "id": "viral-caribbean",
   "metadata": {},
   "source": [
    "### Training Model"
   ]
  },
  {
   "cell_type": "code",
   "execution_count": 17,
   "id": "radical-variation",
   "metadata": {},
   "outputs": [
    {
     "name": "stdout",
     "output_type": "stream",
     "text": [
      "Epoch [5/100], Loss : 26.2132\n",
      "Epoch [10/100], Loss : 10.8663\n",
      "Epoch [15/100], Loss : 4.6486\n",
      "Epoch [20/100], Loss : 2.1294\n",
      "Epoch [25/100], Loss : 1.1084\n",
      "Epoch [30/100], Loss : 0.6944\n",
      "Epoch [35/100], Loss : 0.5264\n",
      "Epoch [40/100], Loss : 0.4579\n",
      "Epoch [45/100], Loss : 0.4298\n",
      "Epoch [50/100], Loss : 0.4180\n",
      "Epoch [55/100], Loss : 0.4129\n",
      "Epoch [60/100], Loss : 0.4105\n",
      "Epoch [65/100], Loss : 0.4091\n",
      "Epoch [70/100], Loss : 0.4082\n",
      "Epoch [75/100], Loss : 0.4075\n",
      "Epoch [80/100], Loss : 0.4068\n",
      "Epoch [85/100], Loss : 0.4062\n",
      "Epoch [90/100], Loss : 0.4055\n",
      "Epoch [95/100], Loss : 0.4049\n",
      "Epoch [100/100], Loss : 0.4043\n"
     ]
    }
   ],
   "source": [
    "for epoch in range(num_epochs) :\n",
    "    \n",
    "    # 위의 np.array() -> tensor로 변환\n",
    "    inputs = torch.from_numpy(x_train)\n",
    "    targets = torch.from_numpy(y_train)\n",
    "    \n",
    "    # Forward\n",
    "    pred = model(inputs)\n",
    "    loss = loss_function(pred, targets)\n",
    "    \n",
    "    # Back Propagation\n",
    "    optimizer.zero_grad() # 항상 optimizer을 초기화하고 진행!!!\n",
    "    loss.backward()\n",
    "    optimizer.step()\n",
    "    \n",
    "    if (epoch + 1) % 5 == 0:\n",
    "        print('Epoch [{}/{}], Loss : {:.4f}'.format(epoch+1, num_epochs, loss.item()))\n",
    "        \n",
    "# 학자들이 accuracy를 높이기 위해 별 짓을 다해봤지만 \n",
    "# loss가 랜덤 값으로 나오는게 이상한게 아니라는 것을 알게됨.\n",
    "# 그래서 단순한 데이터일수록 처음에 터무니 없는 값이 나오다가 금방 loss값이 0에 가까워짐."
   ]
  },
  {
   "cell_type": "markdown",
   "id": "reported-version",
   "metadata": {},
   "source": [
    "### Visualization"
   ]
  },
  {
   "cell_type": "code",
   "execution_count": 20,
   "id": "returning-miller",
   "metadata": {},
   "outputs": [
    {
     "data": {
      "image/png": "[encoded data removed]",
      "text/plain": [
       "<Figure size 432x288 with 1 Axes>"
      ]
     },
     "metadata": {
      "needs_background": "light"
     },
     "output_type": "display_data"
    }
   ],
   "source": [
    "predicted = model(torch.from_numpy(x_train)).detach().numpy()\n",
    "\n",
    "plt.plot(x_train, y_train, 'ro', label='Original Data')\n",
    "plt.plot(x_train, predicted, label='Fitted Data')\n",
    "plt.legend()\n",
    "plt.show()\n",
    "\n",
    "# Save the Model Value...ckpt\n",
    "# 지정한 이름으로 weight값이 저장된 파일이 생성됨.\n",
    "# 배포할 때 이것을 배포하여 데이터만 받아서 학습 진행\n",
    "torch.save(model.state_dict(), 'model.ckpt') # 모델에서 학습한 weight 값 저장"
   ]
  },
  {
   "cell_type": "code",
   "execution_count": null,
   "id": "impossible-syndication",
   "metadata": {},
   "outputs": [],
   "source": []
  },
  {
   "cell_type": "code",
   "execution_count": null,
   "id": "green-energy",
   "metadata": {},
   "outputs": [],
   "source": []
  },
  {
   "cell_type": "code",
   "execution_count": null,
   "id": "tender-february",
   "metadata": {},
   "outputs": [],
   "source": []
  },
  {
   "cell_type": "code",
   "execution_count": null,
   "id": "cellular-minneapolis",
   "metadata": {},
   "outputs": [],
   "source": []
  },
  {
   "cell_type": "code",
   "execution_count": null,
   "id": "sharing-notion",
   "metadata": {},
   "outputs": [],
   "source": []
  },
  {
   "cell_type": "code",
   "execution_count": null,
   "id": "religious-distinction",
   "metadata": {},
   "outputs": [],
   "source": []
  },
  {
   "cell_type": "code",
   "execution_count": null,
   "id": "isolated-thermal",
   "metadata": {},
   "outputs": [],
   "source": []
  },
  {
   "cell_type": "code",
   "execution_count": null,
   "id": "understood-final",
   "metadata": {},
   "outputs": [],
   "source": []
  }
 ],
 "metadata": {
  "kernelspec": {
   "display_name": "Python 3",
   "language": "python",
   "name": "python3"
  },
  "language_info": {
   "codemirror_mode": {
    "name": "ipython",
    "version": 3
   },
   "file_extension": ".py",
   "mimetype": "text/x-python",
   "name": "python",
   "nbconvert_exporter": "python",
   "pygments_lexer": "ipython3",
   "version": "3.8.5"
  }
 },
 "nbformat": 4,
 "nbformat_minor": 5
}

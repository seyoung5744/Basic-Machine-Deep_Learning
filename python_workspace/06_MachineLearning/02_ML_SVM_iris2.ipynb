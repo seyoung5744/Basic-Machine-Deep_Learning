{
 "cells": [
  {
   "cell_type": "code",
   "execution_count": 31,
   "metadata": {},
   "outputs": [
    {
     "name": "stdout",
     "output_type": "stream",
     "text": [
      "30\n",
      "200\n"
     ]
    }
   ],
   "source": [
    "# 파이썬에서 함수 할당 변수가 여러개 나오는 부분...\n",
    "def sum_and_multiply(a,b):\n",
    "    return a+b, a*b\n",
    "\n",
    "# result = sum_and_multiply(10,20)\n",
    "# result\n",
    "\n",
    "res1, res2 = sum_and_multiply(10,20)\n",
    "print(res1)\n",
    "print(res2)"
   ]
  },
  {
   "cell_type": "code",
   "execution_count": 3,
   "metadata": {},
   "outputs": [],
   "source": [
    "import pandas as pd\n",
    "from sklearn.svm import SVC\n",
    "from sklearn.model_selection import train_test_split\n",
    "\n",
    "# 성능평가 함수 추가...내가 예측한 결과와 실제 라벨 사이의 정확도를 측정\n",
    "from sklearn.metrics import accuracy_score"
   ]
  },
  {
   "cell_type": "markdown",
   "metadata": {},
   "source": [
    "### 1. Data Loader"
   ]
  },
  {
   "cell_type": "code",
   "execution_count": 2,
   "metadata": {
    "collapsed": true
   },
   "outputs": [
    {
     "data": {
      "text/html": [
       "<div>\n",
       "<style scoped>\n",
       "    .dataframe tbody tr th:only-of-type {\n",
       "        vertical-align: middle;\n",
       "    }\n",
       "\n",
       "    .dataframe tbody tr th {\n",
       "        vertical-align: top;\n",
       "    }\n",
       "\n",
       "    .dataframe thead th {\n",
       "        text-align: right;\n",
       "    }\n",
       "</style>\n",
       "<table border=\"1\" class=\"dataframe\">\n",
       "  <thead>\n",
       "    <tr style=\"text-align: right;\">\n",
       "      <th></th>\n",
       "      <th>sepal.length</th>\n",
       "      <th>sepal.width</th>\n",
       "      <th>petal.length</th>\n",
       "      <th>petal.width</th>\n",
       "      <th>variety</th>\n",
       "    </tr>\n",
       "  </thead>\n",
       "  <tbody>\n",
       "    <tr>\n",
       "      <th>0</th>\n",
       "      <td>5.1</td>\n",
       "      <td>3.5</td>\n",
       "      <td>1.4</td>\n",
       "      <td>0.2</td>\n",
       "      <td>Setosa</td>\n",
       "    </tr>\n",
       "    <tr>\n",
       "      <th>1</th>\n",
       "      <td>4.9</td>\n",
       "      <td>3.0</td>\n",
       "      <td>1.4</td>\n",
       "      <td>0.2</td>\n",
       "      <td>Setosa</td>\n",
       "    </tr>\n",
       "    <tr>\n",
       "      <th>2</th>\n",
       "      <td>4.7</td>\n",
       "      <td>3.2</td>\n",
       "      <td>1.3</td>\n",
       "      <td>0.2</td>\n",
       "      <td>Setosa</td>\n",
       "    </tr>\n",
       "    <tr>\n",
       "      <th>3</th>\n",
       "      <td>4.6</td>\n",
       "      <td>3.1</td>\n",
       "      <td>1.5</td>\n",
       "      <td>0.2</td>\n",
       "      <td>Setosa</td>\n",
       "    </tr>\n",
       "    <tr>\n",
       "      <th>4</th>\n",
       "      <td>5.0</td>\n",
       "      <td>3.6</td>\n",
       "      <td>1.4</td>\n",
       "      <td>0.2</td>\n",
       "      <td>Setosa</td>\n",
       "    </tr>\n",
       "    <tr>\n",
       "      <th>...</th>\n",
       "      <td>...</td>\n",
       "      <td>...</td>\n",
       "      <td>...</td>\n",
       "      <td>...</td>\n",
       "      <td>...</td>\n",
       "    </tr>\n",
       "    <tr>\n",
       "      <th>145</th>\n",
       "      <td>6.7</td>\n",
       "      <td>3.0</td>\n",
       "      <td>5.2</td>\n",
       "      <td>2.3</td>\n",
       "      <td>Virginica</td>\n",
       "    </tr>\n",
       "    <tr>\n",
       "      <th>146</th>\n",
       "      <td>6.3</td>\n",
       "      <td>2.5</td>\n",
       "      <td>5.0</td>\n",
       "      <td>1.9</td>\n",
       "      <td>Virginica</td>\n",
       "    </tr>\n",
       "    <tr>\n",
       "      <th>147</th>\n",
       "      <td>6.5</td>\n",
       "      <td>3.0</td>\n",
       "      <td>5.2</td>\n",
       "      <td>2.0</td>\n",
       "      <td>Virginica</td>\n",
       "    </tr>\n",
       "    <tr>\n",
       "      <th>148</th>\n",
       "      <td>6.2</td>\n",
       "      <td>3.4</td>\n",
       "      <td>5.4</td>\n",
       "      <td>2.3</td>\n",
       "      <td>Virginica</td>\n",
       "    </tr>\n",
       "    <tr>\n",
       "      <th>149</th>\n",
       "      <td>5.9</td>\n",
       "      <td>3.0</td>\n",
       "      <td>5.1</td>\n",
       "      <td>1.8</td>\n",
       "      <td>Virginica</td>\n",
       "    </tr>\n",
       "  </tbody>\n",
       "</table>\n",
       "<p>150 rows × 5 columns</p>\n",
       "</div>"
      ],
      "text/plain": [
       "     sepal.length  sepal.width  petal.length  petal.width    variety\n",
       "0             5.1          3.5           1.4          0.2     Setosa\n",
       "1             4.9          3.0           1.4          0.2     Setosa\n",
       "2             4.7          3.2           1.3          0.2     Setosa\n",
       "3             4.6          3.1           1.5          0.2     Setosa\n",
       "4             5.0          3.6           1.4          0.2     Setosa\n",
       "..            ...          ...           ...          ...        ...\n",
       "145           6.7          3.0           5.2          2.3  Virginica\n",
       "146           6.3          2.5           5.0          1.9  Virginica\n",
       "147           6.5          3.0           5.2          2.0  Virginica\n",
       "148           6.2          3.4           5.4          2.3  Virginica\n",
       "149           5.9          3.0           5.1          1.8  Virginica\n",
       "\n",
       "[150 rows x 5 columns]"
      ]
     },
     "execution_count": 2,
     "metadata": {},
     "output_type": "execute_result"
    }
   ],
   "source": [
    "csv = pd.read_csv(\"../data/iris.csv\")\n",
    "csv"
   ]
  },
  {
   "cell_type": "markdown",
   "metadata": {},
   "source": [
    "### 2. Data Split and Shuffle\n",
    "-  X : feature : 2차원(대문자)\n",
    "-  y : label   : 1차원(소문자)"
   ]
  },
  {
   "cell_type": "code",
   "execution_count": 11,
   "metadata": {
    "collapsed": true
   },
   "outputs": [
    {
     "name": "stdout",
     "output_type": "stream",
     "text": [
      "0         Setosa\n",
      "1         Setosa\n",
      "2         Setosa\n",
      "3         Setosa\n",
      "4         Setosa\n",
      "         ...    \n",
      "145    Virginica\n",
      "146    Virginica\n",
      "147    Virginica\n",
      "148    Virginica\n",
      "149    Virginica\n",
      "Name: variety, Length: 150, dtype: object\n",
      "     sepal.length  sepal.width  petal.length  petal.width\n",
      "0             5.1          3.5           1.4          0.2\n",
      "1             4.9          3.0           1.4          0.2\n",
      "2             4.7          3.2           1.3          0.2\n",
      "3             4.6          3.1           1.5          0.2\n",
      "4             5.0          3.6           1.4          0.2\n",
      "..            ...          ...           ...          ...\n",
      "145           6.7          3.0           5.2          2.3\n",
      "146           6.3          2.5           5.0          1.9\n",
      "147           6.5          3.0           5.2          2.0\n",
      "148           6.2          3.4           5.4          2.3\n",
      "149           5.9          3.0           5.1          1.8\n",
      "\n",
      "[150 rows x 4 columns]\n",
      "**************************************************\n",
      "147     Virginica\n",
      "32         Setosa\n",
      "134     Virginica\n",
      "40         Setosa\n",
      "115     Virginica\n",
      "104     Virginica\n",
      "88     Versicolor\n",
      "91     Versicolor\n",
      "42         Setosa\n",
      "63     Versicolor\n",
      "76     Versicolor\n",
      "1          Setosa\n",
      "21         Setosa\n",
      "7          Setosa\n",
      "6          Setosa\n",
      "2          Setosa\n",
      "122     Virginica\n",
      "31         Setosa\n",
      "111     Virginica\n",
      "9          Setosa\n",
      "35         Setosa\n",
      "62     Versicolor\n",
      "24         Setosa\n",
      "15         Setosa\n",
      "90     Versicolor\n",
      "54     Versicolor\n",
      "19         Setosa\n",
      "10         Setosa\n",
      "36         Setosa\n",
      "71     Versicolor\n",
      "Name: variety, dtype: object\n"
     ]
    }
   ],
   "source": [
    "label = csv['variety']\n",
    "feature = csv[[\"sepal.length\",'sepal.width','petal.length','petal.width']]\n",
    "\n",
    "# 데이터가 잘 안섞여 있다.\n",
    "print(label)\n",
    "print(feature)\n",
    "print('*'*50)\n",
    "\n",
    "# 1. Test, Train 데이터로 분리하고 / 랜덤하게 섞어준다.../ 80:20 비율로\n",
    "X_train, X_test, y_train, y_test = train_test_split(feature, label, test_size=0.2) \n",
    "print(y_test)"
   ]
  },
  {
   "cell_type": "markdown",
   "metadata": {},
   "source": [
    "### 3. Model Generator and Training"
   ]
  },
  {
   "cell_type": "code",
   "execution_count": 13,
   "metadata": {},
   "outputs": [
    {
     "data": {
      "text/plain": [
       "SVC()"
      ]
     },
     "execution_count": 13,
     "metadata": {},
     "output_type": "execute_result"
    }
   ],
   "source": [
    "model = SVC()\n",
    "# 학습용 feature : X_train, 학습용 label : y_train\n",
    "model.fit(X_train, y_train)"
   ]
  },
  {
   "cell_type": "markdown",
   "metadata": {},
   "source": [
    "### 4. Predict and Accuracy Score"
   ]
  },
  {
   "cell_type": "code",
   "execution_count": 15,
   "metadata": {
    "collapsed": true
   },
   "outputs": [
    {
     "name": "stdout",
     "output_type": "stream",
     "text": [
      "['Virginica' 'Setosa' 'Virginica' 'Setosa' 'Virginica' 'Virginica'\n",
      " 'Versicolor' 'Versicolor' 'Setosa' 'Versicolor' 'Versicolor' 'Setosa'\n",
      " 'Setosa' 'Setosa' 'Setosa' 'Setosa' 'Virginica' 'Setosa' 'Virginica'\n",
      " 'Setosa' 'Setosa' 'Versicolor' 'Setosa' 'Setosa' 'Versicolor'\n",
      " 'Versicolor' 'Setosa' 'Setosa' 'Setosa' 'Versicolor']\n",
      "******************************\n",
      "147     Virginica\n",
      "32         Setosa\n",
      "134     Virginica\n",
      "40         Setosa\n",
      "115     Virginica\n",
      "104     Virginica\n",
      "88     Versicolor\n",
      "91     Versicolor\n",
      "42         Setosa\n",
      "63     Versicolor\n",
      "76     Versicolor\n",
      "1          Setosa\n",
      "21         Setosa\n",
      "7          Setosa\n",
      "6          Setosa\n",
      "2          Setosa\n",
      "122     Virginica\n",
      "31         Setosa\n",
      "111     Virginica\n",
      "9          Setosa\n",
      "35         Setosa\n",
      "62     Versicolor\n",
      "24         Setosa\n",
      "15         Setosa\n",
      "90     Versicolor\n",
      "54     Versicolor\n",
      "19         Setosa\n",
      "10         Setosa\n",
      "36         Setosa\n",
      "71     Versicolor\n",
      "Name: variety, dtype: object\n"
     ]
    }
   ],
   "source": [
    "pred = model.predict(X_test) # 테스트 feature로 예측\n",
    "print(pred) # Test 특징을 모델이 입력받아서 예측한 값\n",
    "\n",
    "print('*'*30)\n",
    "\n",
    "print(y_test) # y_test 실제 정답"
   ]
  },
  {
   "cell_type": "markdown",
   "metadata": {},
   "source": [
    "### 5. Accuracy 확인하기"
   ]
  },
  {
   "cell_type": "code",
   "execution_count": 28,
   "metadata": {},
   "outputs": [
    {
     "name": "stdout",
     "output_type": "stream",
     "text": [
      "100.0\n"
     ]
    }
   ],
   "source": [
    "# accuracy_score(예측한 값, 실제 정답)\n",
    "score = accuracy_score(pred, y_test)\n",
    "print(score * 100)"
   ]
  },
  {
   "cell_type": "markdown",
   "metadata": {},
   "source": [
    "train_test_split()   \n",
    "- 어떤 인자값 : 데이터의 feature, label 즉, 데이터와 정답이 인자값으로 할당됨.\n",
    "- 하는 일 : \n",
    "    1. 정렬된 데이터는 훈련이 아닌 암기할 우려가 있기 때문에 해당 함수를 통해 데이터들을 섞어주여 이러한 문제점을 해결\n",
    "    2. train, test용으로 데이터 분리\n",
    "      \n",
    "      \n",
    "- 할당 변수 4개가 무엇인지\n",
    "    train feature, test feature, train 정답, test 정답\n",
    "\n",
    "fit() \n",
    "- 인자값 : train feature, train 정답\n",
    "\n",
    "predict()\n",
    "- 예측이란? fit()으로 인해 훈련된 내용을 확인하기 위해 test feature으로 test\n",
    "- 인자값은? test feature\n",
    "\n",
    "accuracy_score()\n",
    "- 인자값? predict()로 예측된 결과물, test정답\n",
    "- score 계산 방식은? 두 인자값의 비교를 통해 "
   ]
  },
  {
   "cell_type": "code",
   "execution_count": null,
   "metadata": {},
   "outputs": [],
   "source": []
  }
 ],
 "metadata": {
  "kernelspec": {
   "display_name": "Python 3",
   "language": "python",
   "name": "python3"
  },
  "language_info": {
   "codemirror_mode": {
    "name": "ipython",
    "version": 3
   },
   "file_extension": ".py",
   "mimetype": "text/x-python",
   "name": "python",
   "nbconvert_exporter": "python",
   "pygments_lexer": "ipython3",
   "version": "3.8.5"
  }
 },
 "nbformat": 4,
 "nbformat_minor": 4
}

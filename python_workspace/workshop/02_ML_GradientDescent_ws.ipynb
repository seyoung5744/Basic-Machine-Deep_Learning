{
 "cells": [
  {
   "cell_type": "markdown",
   "metadata": {},
   "source": [
    "### 예측 함수\n",
    "\n",
    "$$\n",
    "Y = Wx + b\n",
    "$$\n",
    "\n",
    "x는 특성, y는 예측 값이다. \n",
    "W는 기울기, b는 y절편을 뜻하지만 W는 가중치(weight), b는 offset으로 부를 수도 있다.\n",
    "선형 회귀에서는 여러 샘플의 특성 값과 예측 값을 활용해 가장 적절한 w와 b를 구하는 것이 목적이다.\n",
    "### 평균 제곱 오차 (Mean Square Error)\n",
    "선형 회귀에서는 Coast 함수(또는 비용 함수)로 평균 제곱 오차를 사용한다. \n",
    "여기서 Coast 함수란 샘플 데이터와 타깃과의 유사도를 의미하며 Coast 함수가 최소가 되도록 \n",
    "파라미터를 학습시킨다. \n",
    "$$\n",
    "MSE = (실제값 - 예측값)^2 / 크기 \n",
    "$$"
   ]
  },
  {
   "cell_type": "code",
   "execution_count": 15,
   "metadata": {},
   "outputs": [],
   "source": [
    "import numpy as np\n",
    "'''\n",
    "\n",
    "'''\n",
    "X = np.array([1., 2., 3., 4., 5., 6.])\n",
    "Y = np.array([9., 16., 23., 30., 37., 44.])"
   ]
  },
  {
   "cell_type": "code",
   "execution_count": 16,
   "metadata": {},
   "outputs": [],
   "source": [
    "#초기화\n",
    "W = 0.0\n",
    "b = 0.0"
   ]
  },
  {
   "cell_type": "code",
   "execution_count": 19,
   "metadata": {},
   "outputs": [
    {
     "data": {
      "text/plain": [
       "6"
      ]
     },
     "execution_count": 19,
     "metadata": {},
     "output_type": "execute_result"
    }
   ],
   "source": [
    "n_data = len(X)\n",
    "n_data"
   ]
  },
  {
   "cell_type": "code",
   "execution_count": 20,
   "metadata": {},
   "outputs": [],
   "source": [
    "# 작성!!\n",
    "epochs = # 학습 회수는 5000번\n",
    "learning_rate = # 학습 속도는 0.01"
   ]
  },
  {
   "cell_type": "code",
   "execution_count": 23,
   "metadata": {},
   "outputs": [
    {
     "name": "stdout",
     "output_type": "stream",
     "text": [
      "Epoch (         0/      5000) cost:   0.000000, W:   7.000000, b:  2.000000\n",
      "Epoch (       100/      5000) cost:   0.000000, W:   7.000000, b:  2.000000\n",
      "Epoch (       200/      5000) cost:   0.000000, W:   7.000000, b:  2.000000\n",
      "Epoch (       300/      5000) cost:   0.000000, W:   7.000000, b:  2.000000\n",
      "Epoch (       400/      5000) cost:   0.000000, W:   7.000000, b:  2.000000\n",
      "Epoch (       500/      5000) cost:   0.000000, W:   7.000000, b:  2.000000\n",
      "Epoch (       600/      5000) cost:   0.000000, W:   7.000000, b:  2.000000\n",
      "Epoch (       700/      5000) cost:   0.000000, W:   7.000000, b:  2.000000\n",
      "Epoch (       800/      5000) cost:   0.000000, W:   7.000000, b:  2.000000\n",
      "Epoch (       900/      5000) cost:   0.000000, W:   7.000000, b:  2.000000\n",
      "Epoch (      1000/      5000) cost:   0.000000, W:   7.000000, b:  2.000000\n",
      "Epoch (      1100/      5000) cost:   0.000000, W:   7.000000, b:  2.000000\n",
      "Epoch (      1200/      5000) cost:   0.000000, W:   7.000000, b:  2.000000\n",
      "Epoch (      1300/      5000) cost:   0.000000, W:   7.000000, b:  2.000000\n",
      "Epoch (      1400/      5000) cost:   0.000000, W:   7.000000, b:  2.000000\n",
      "Epoch (      1500/      5000) cost:   0.000000, W:   7.000000, b:  2.000000\n",
      "Epoch (      1600/      5000) cost:   0.000000, W:   7.000000, b:  2.000000\n",
      "Epoch (      1700/      5000) cost:   0.000000, W:   7.000000, b:  2.000000\n",
      "Epoch (      1800/      5000) cost:   0.000000, W:   7.000000, b:  2.000000\n",
      "Epoch (      1900/      5000) cost:   0.000000, W:   7.000000, b:  2.000000\n",
      "Epoch (      2000/      5000) cost:   0.000000, W:   7.000000, b:  2.000000\n",
      "Epoch (      2100/      5000) cost:   0.000000, W:   7.000000, b:  2.000000\n",
      "Epoch (      2200/      5000) cost:   0.000000, W:   7.000000, b:  2.000000\n",
      "Epoch (      2300/      5000) cost:   0.000000, W:   7.000000, b:  2.000000\n",
      "Epoch (      2400/      5000) cost:   0.000000, W:   7.000000, b:  2.000000\n",
      "Epoch (      2500/      5000) cost:   0.000000, W:   7.000000, b:  2.000000\n",
      "Epoch (      2600/      5000) cost:   0.000000, W:   7.000000, b:  2.000000\n",
      "Epoch (      2700/      5000) cost:   0.000000, W:   7.000000, b:  2.000000\n",
      "Epoch (      2800/      5000) cost:   0.000000, W:   7.000000, b:  2.000000\n",
      "Epoch (      2900/      5000) cost:   0.000000, W:   7.000000, b:  2.000000\n",
      "Epoch (      3000/      5000) cost:   0.000000, W:   7.000000, b:  2.000000\n",
      "Epoch (      3100/      5000) cost:   0.000000, W:   7.000000, b:  2.000000\n",
      "Epoch (      3200/      5000) cost:   0.000000, W:   7.000000, b:  2.000000\n",
      "Epoch (      3300/      5000) cost:   0.000000, W:   7.000000, b:  2.000000\n",
      "Epoch (      3400/      5000) cost:   0.000000, W:   7.000000, b:  2.000000\n",
      "Epoch (      3500/      5000) cost:   0.000000, W:   7.000000, b:  2.000000\n",
      "Epoch (      3600/      5000) cost:   0.000000, W:   7.000000, b:  2.000000\n",
      "Epoch (      3700/      5000) cost:   0.000000, W:   7.000000, b:  2.000000\n",
      "Epoch (      3800/      5000) cost:   0.000000, W:   7.000000, b:  2.000000\n",
      "Epoch (      3900/      5000) cost:   0.000000, W:   7.000000, b:  2.000000\n",
      "Epoch (      4000/      5000) cost:   0.000000, W:   7.000000, b:  2.000000\n",
      "Epoch (      4100/      5000) cost:   0.000000, W:   7.000000, b:  2.000000\n",
      "Epoch (      4200/      5000) cost:   0.000000, W:   7.000000, b:  2.000000\n",
      "Epoch (      4300/      5000) cost:   0.000000, W:   7.000000, b:  2.000000\n",
      "Epoch (      4400/      5000) cost:   0.000000, W:   7.000000, b:  2.000000\n",
      "Epoch (      4500/      5000) cost:   0.000000, W:   7.000000, b:  2.000000\n",
      "Epoch (      4600/      5000) cost:   0.000000, W:   7.000000, b:  2.000000\n",
      "Epoch (      4700/      5000) cost:   0.000000, W:   7.000000, b:  2.000000\n",
      "Epoch (      4800/      5000) cost:   0.000000, W:   7.000000, b:  2.000000\n",
      "Epoch (      4900/      5000) cost:   0.000000, W:   7.000000, b:  2.000000\n",
      "W:   7.000000\n",
      "b:   2.000000\n",
      "result : \n",
      "[ 9. 16. 23. 30. 37. 44.]\n"
     ]
    }
   ],
   "source": [
    "for i in range(epochs):\n",
    "    y_predict =#\n",
    "    cost = #\n",
    "    \n",
    "'''\n",
    "경사하강법을 이용해서\n",
    "아래와 같은 결과가 도출되도록 코드를 완성하세요!!\n",
    "'''\n",
    "\n",
    "print('W: {:10f}'.format(W))\n",
    "print('b: {:10f}'.format(b))\n",
    "print('result : ')\n",
    "print(X * W + b)"
   ]
  }
 ],
 "metadata": {
  "kernelspec": {
   "display_name": "Python 3",
   "language": "python",
   "name": "python3"
  },
  "language_info": {
   "codemirror_mode": {
    "name": "ipython",
    "version": 3
   },
   "file_extension": ".py",
   "mimetype": "text/x-python",
   "name": "python",
   "nbconvert_exporter": "python",
   "pygments_lexer": "ipython3",
   "version": "3.7.7"
  }
 },
 "nbformat": 4,
 "nbformat_minor": 4
}
